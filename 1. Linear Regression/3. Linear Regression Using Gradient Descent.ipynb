{
 "cells": [
  {
   "cell_type": "markdown",
   "id": "8c6467ff-169e-4dfe-9813-5f32b1cf8de5",
   "metadata": {},
   "source": [
    "# Linear Regression Using Gradient Descent"
   ]
  },
  {
   "cell_type": "markdown",
   "id": "e7b41fd6-da30-4f02-bddf-aea3fbf6ec0c",
   "metadata": {},
   "source": [
    "#### Importing Libraries"
   ]
  },
  {
   "cell_type": "code",
   "execution_count": 27,
   "id": "a3ced625-9170-4199-b75c-29301bc2cff1",
   "metadata": {},
   "outputs": [],
   "source": [
    "import numpy as np\n",
    "import pandas as pd\n",
    "import matplotlib.pyplot as plt\n",
    "plt.rcParams['figure.figsize'] = (5.0, 5.0)"
   ]
  },
  {
   "cell_type": "markdown",
   "id": "14bf080d-fe72-4759-be27-c958c3b21057",
   "metadata": {},
   "source": [
    "#### Importing Data\n",
    "In here, we import our data.<br>\n",
    "The dataset represents the changes in Salary With Experiance <br>\n",
    "I got the data from kaggle: `Salary_Data`  https://raw.githubusercontent.com/krishnaik06/simple-Linear-Regression/master/Salary_Data.csv"
   ]
  },
  {
   "cell_type": "code",
   "execution_count": 30,
   "id": "e8e01269-9b17-417a-9121-f9933541e0e9",
   "metadata": {},
   "outputs": [],
   "source": [
    "data = pd.read_csv(\"https://raw.githubusercontent.com/krishnaik06/simple-Linear-Regression/master/Salary_Data.csv\")"
   ]
  },
  {
   "cell_type": "markdown",
   "id": "a2629294-9544-4f7b-b05d-dfa36ca47eb7",
   "metadata": {},
   "source": [
    "#### Display the DataFrame"
   ]
  },
  {
   "cell_type": "code",
   "execution_count": 32,
   "id": "fe70406d-30a6-4d22-a56a-9ba7f373867b",
   "metadata": {},
   "outputs": [
    {
     "data": {
      "text/html": [
       "<div>\n",
       "<style scoped>\n",
       "    .dataframe tbody tr th:only-of-type {\n",
       "        vertical-align: middle;\n",
       "    }\n",
       "\n",
       "    .dataframe tbody tr th {\n",
       "        vertical-align: top;\n",
       "    }\n",
       "\n",
       "    .dataframe thead th {\n",
       "        text-align: right;\n",
       "    }\n",
       "</style>\n",
       "<table border=\"1\" class=\"dataframe\">\n",
       "  <thead>\n",
       "    <tr style=\"text-align: right;\">\n",
       "      <th></th>\n",
       "      <th>YearsExperience</th>\n",
       "      <th>Salary</th>\n",
       "    </tr>\n",
       "  </thead>\n",
       "  <tbody>\n",
       "    <tr>\n",
       "      <th>0</th>\n",
       "      <td>1.1</td>\n",
       "      <td>39343.0</td>\n",
       "    </tr>\n",
       "    <tr>\n",
       "      <th>1</th>\n",
       "      <td>1.3</td>\n",
       "      <td>46205.0</td>\n",
       "    </tr>\n",
       "    <tr>\n",
       "      <th>2</th>\n",
       "      <td>1.5</td>\n",
       "      <td>37731.0</td>\n",
       "    </tr>\n",
       "    <tr>\n",
       "      <th>3</th>\n",
       "      <td>2.0</td>\n",
       "      <td>43525.0</td>\n",
       "    </tr>\n",
       "    <tr>\n",
       "      <th>4</th>\n",
       "      <td>2.2</td>\n",
       "      <td>39891.0</td>\n",
       "    </tr>\n",
       "  </tbody>\n",
       "</table>\n",
       "</div>"
      ],
      "text/plain": [
       "   YearsExperience   Salary\n",
       "0              1.1  39343.0\n",
       "1              1.3  46205.0\n",
       "2              1.5  37731.0\n",
       "3              2.0  43525.0\n",
       "4              2.2  39891.0"
      ]
     },
     "execution_count": 32,
     "metadata": {},
     "output_type": "execute_result"
    }
   ],
   "source": [
    "data.head()"
   ]
  },
  {
   "cell_type": "markdown",
   "id": "212f5b4b-ff05-4619-badf-8ef4699967b3",
   "metadata": {},
   "source": [
    "#### Selecting Data for Training & testing "
   ]
  },
  {
   "cell_type": "code",
   "execution_count": 33,
   "id": "8f61a580-a62e-4eb3-b972-e73bcc096636",
   "metadata": {},
   "outputs": [],
   "source": [
    "X = data.iloc[:, 0]\n",
    "Y = data.iloc[:, 1]"
   ]
  },
  {
   "cell_type": "code",
   "execution_count": 34,
   "id": "d1a394d5-1e9d-403c-ac26-c819eff9e94b",
   "metadata": {},
   "outputs": [
    {
     "data": {
      "text/plain": [
       "(0      1.1\n",
       " 1      1.3\n",
       " 2      1.5\n",
       " 3      2.0\n",
       " 4      2.2\n",
       " 5      2.9\n",
       " 6      3.0\n",
       " 7      3.2\n",
       " 8      3.2\n",
       " 9      3.7\n",
       " 10     3.9\n",
       " 11     4.0\n",
       " 12     4.0\n",
       " 13     4.1\n",
       " 14     4.5\n",
       " 15     4.9\n",
       " 16     5.1\n",
       " 17     5.3\n",
       " 18     5.9\n",
       " 19     6.0\n",
       " 20     6.8\n",
       " 21     7.1\n",
       " 22     7.9\n",
       " 23     8.2\n",
       " 24     8.7\n",
       " 25     9.0\n",
       " 26     9.5\n",
       " 27     9.6\n",
       " 28    10.3\n",
       " 29    10.5\n",
       " Name: YearsExperience, dtype: float64,\n",
       " 0      39343.0\n",
       " 1      46205.0\n",
       " 2      37731.0\n",
       " 3      43525.0\n",
       " 4      39891.0\n",
       " 5      56642.0\n",
       " 6      60150.0\n",
       " 7      54445.0\n",
       " 8      64445.0\n",
       " 9      57189.0\n",
       " 10     63218.0\n",
       " 11     55794.0\n",
       " 12     56957.0\n",
       " 13     57081.0\n",
       " 14     61111.0\n",
       " 15     67938.0\n",
       " 16     66029.0\n",
       " 17     83088.0\n",
       " 18     81363.0\n",
       " 19     93940.0\n",
       " 20     91738.0\n",
       " 21     98273.0\n",
       " 22    101302.0\n",
       " 23    113812.0\n",
       " 24    109431.0\n",
       " 25    105582.0\n",
       " 26    116969.0\n",
       " 27    112635.0\n",
       " 28    122391.0\n",
       " 29    121872.0\n",
       " Name: Salary, dtype: float64)"
      ]
     },
     "execution_count": 34,
     "metadata": {},
     "output_type": "execute_result"
    }
   ],
   "source": [
    "X,Y"
   ]
  },
  {
   "cell_type": "code",
   "execution_count": 35,
   "id": "1ae175f4-3409-497b-b594-e0845a3d7e77",
   "metadata": {},
   "outputs": [
    {
     "data": {
      "image/png": "[encoded data removed]",
      "text/plain": [
       "<Figure size 500x500 with 1 Axes>"
      ]
     },
     "metadata": {},
     "output_type": "display_data"
    }
   ],
   "source": [
    "plt.scatter(X, Y)\n",
    "plt.show()"
   ]
  },
  {
   "cell_type": "code",
   "execution_count": 36,
   "id": "7c194151-65a3-4feb-ba5e-fb9700195dd8",
   "metadata": {},
   "outputs": [],
   "source": [
    "xi = np.mean(X)\n",
    "yi = np.mean(Y)"
   ]
  },
  {
   "cell_type": "code",
   "execution_count": 37,
   "id": "4498b84d-bb61-44bc-b02b-0395edc51a25",
   "metadata": {},
   "outputs": [],
   "source": [
    "x_xi, y_yi =  X-xi , Y-yi \n",
    "# print(x_xi , y_yi)\n",
    "x_xi2 , y_yi2 = x_xi * x_xi , y_yi*y_yi"
   ]
  },
  {
   "cell_type": "code",
   "execution_count": 38,
   "id": "833d0545-196c-4061-962b-cdefda0f307f",
   "metadata": {},
   "outputs": [
    {
     "name": "stdout",
     "output_type": "stream",
     "text": [
      "9449.962321455077\n"
     ]
    }
   ],
   "source": [
    "#find the value of m\n",
    "m = np.sum((x_xi)*(y_yi))/np.sum(x_xi2)\n",
    "print(m)"
   ]
  },
  {
   "cell_type": "code",
   "execution_count": 39,
   "id": "de157b7d-9b60-4b3a-b137-bd401abc7660",
   "metadata": {},
   "outputs": [],
   "source": [
    "c = yi-m*xi"
   ]
  },
  {
   "cell_type": "code",
   "execution_count": 40,
   "id": "957db8ee-e39e-4518-9044-efc3f184ff9a",
   "metadata": {},
   "outputs": [
    {
     "data": {
      "image/png": "[encoded data removed]",
      "text/plain": [
       "<Figure size 500x500 with 1 Axes>"
      ]
     },
     "metadata": {},
     "output_type": "display_data"
    }
   ],
   "source": [
    "for i in X:\n",
    "\ty_list = []\n",
    "\ty = m*(X)+c\n",
    "\ty_list.append(y)\n",
    "\n",
    "plt.scatter(X,y_list,c='r')\n",
    "plt.show()"
   ]
  },
  {
   "cell_type": "code",
   "execution_count": 41,
   "id": "e6002d41-3cbc-4b0e-91a1-65c2755cf4fd",
   "metadata": {},
   "outputs": [],
   "source": [
    "# using the Gradient Descent Method\n",
    "# Building the model"
   ]
  },
  {
   "cell_type": "code",
   "execution_count": 59,
   "id": "bb863675-702f-484d-9787-c27a365bc650",
   "metadata": {},
   "outputs": [
    {
     "name": "stdout",
     "output_type": "stream",
     "text": [
      "11769.520009282598 10161.316588560652\n"
     ]
    }
   ],
   "source": [
    "m = 0\n",
    "c = 0\n",
    "\n",
    "L = 0.001  # The learning Rate\n",
    "epochs = 1000  # The number of iterations to perform gradient descent\n",
    "\n",
    "n = float(len(X)) # Number of elements in X\n",
    "\n",
    "# Performing Gradient Descent \n",
    "for i in range(epochs): \n",
    "    Y_pred = m*X + c  # The current predicted value of Y\n",
    "    D_m = (-2/n) * sum(X * (Y - Y_pred))  # Derivative wrt m\n",
    "    D_c = (-2/n) * sum(Y - Y_pred)  # Derivative wrt c\n",
    "    m = m - L * D_m  # Update m\n",
    "    c = c - L * D_c  # Update c\n",
    "    \n",
    "print (m, c)"
   ]
  },
  {
   "cell_type": "code",
   "execution_count": 60,
   "id": "a68a1bcb-b480-4169-ac8c-462a122aa121",
   "metadata": {},
   "outputs": [
    {
     "name": "stdout",
     "output_type": "stream",
     "text": [
      "Y = 10161.316588560652 + (11769.520009282598 * X)\n"
     ]
    }
   ],
   "source": [
    "print(\"Y = {} + ({} * X)\".format(c,m))"
   ]
  },
  {
   "cell_type": "code",
   "execution_count": 61,
   "id": "fc828990-54d0-4691-8c57-76db348e910c",
   "metadata": {},
   "outputs": [
    {
     "data": {
      "image/png": "[encoded data removed]",
      "text/plain": [
       "<Figure size 500x500 with 1 Axes>"
      ]
     },
     "metadata": {},
     "output_type": "display_data"
    }
   ],
   "source": [
    "# Making predictions\n",
    "Y_pred = m*X + c\n",
    "\n",
    "plt.scatter(X, Y) \n",
    "plt.plot([min(X), max(X)], [min(Y_pred), max(Y_pred)], color='red')  # regression line\n",
    "plt.show()"
   ]
  },
  {
   "cell_type": "code",
   "execution_count": 62,
   "id": "d5a3bd07-701c-4392-b6e9-4c6fafd9eef3",
   "metadata": {},
   "outputs": [
    {
     "name": "stdout",
     "output_type": "stream",
     "text": [
      "Mean Absolute Error (MAE): 7378.563353595837\n",
      "Mean Squared Error (MSE): 84089419.33650166\n",
      "Root Mean Squared Error (RMSE): 9170.028317104678\n",
      "R-squared (R2) Score: 88.4253950739227\n"
     ]
    }
   ],
   "source": [
    "import numpy as np\n",
    "\n",
    "# Calculate Mean Absolute Error (MAE)\n",
    "mae = np.mean(np.abs(Y - Y_pred))\n",
    "\n",
    "# Calculate Mean Squared Error (MSE)\n",
    "mse = np.mean((Y - Y_pred) ** 2)\n",
    "\n",
    "# Calculate Root Mean Squared Error (RMSE)\n",
    "rmse = np.sqrt(mse)\n",
    "\n",
    "# Calculate R-squared (R2) Score\n",
    "total_sum_of_squares = np.sum((Y - np.mean(Y)) ** 2)\n",
    "residual_sum_of_squares = np.sum((Y - Y_pred) ** 2)\n",
    "r2 = 1 - (residual_sum_of_squares / total_sum_of_squares)\n",
    "\n",
    "print(\"Mean Absolute Error (MAE):\", mae)\n",
    "print(\"Mean Squared Error (MSE):\", mse)\n",
    "print(\"Root Mean Squared Error (RMSE):\", rmse)\n",
    "print(\"R-squared (R2) Score:\", r2*100)\n"
   ]
  },
  {
   "cell_type": "code",
   "execution_count": 63,
   "id": "33978526-71ee-4e52-b32a-aaa8e7266565",
   "metadata": {},
   "outputs": [
    {
     "data": {
      "text/html": [
       "<div>\n",
       "<style scoped>\n",
       "    .dataframe tbody tr th:only-of-type {\n",
       "        vertical-align: middle;\n",
       "    }\n",
       "\n",
       "    .dataframe tbody tr th {\n",
       "        vertical-align: top;\n",
       "    }\n",
       "\n",
       "    .dataframe thead th {\n",
       "        text-align: right;\n",
       "    }\n",
       "</style>\n",
       "<table border=\"1\" class=\"dataframe\">\n",
       "  <thead>\n",
       "    <tr style=\"text-align: right;\">\n",
       "      <th></th>\n",
       "      <th>Predicted</th>\n",
       "      <th>Actual Value</th>\n",
       "    </tr>\n",
       "  </thead>\n",
       "  <tbody>\n",
       "    <tr>\n",
       "      <th>0</th>\n",
       "      <td>23107.788599</td>\n",
       "      <td>39343.0</td>\n",
       "    </tr>\n",
       "    <tr>\n",
       "      <th>1</th>\n",
       "      <td>25461.692601</td>\n",
       "      <td>46205.0</td>\n",
       "    </tr>\n",
       "    <tr>\n",
       "      <th>2</th>\n",
       "      <td>27815.596602</td>\n",
       "      <td>37731.0</td>\n",
       "    </tr>\n",
       "    <tr>\n",
       "      <th>3</th>\n",
       "      <td>33700.356607</td>\n",
       "      <td>43525.0</td>\n",
       "    </tr>\n",
       "    <tr>\n",
       "      <th>4</th>\n",
       "      <td>36054.260609</td>\n",
       "      <td>39891.0</td>\n",
       "    </tr>\n",
       "    <tr>\n",
       "      <th>5</th>\n",
       "      <td>44292.924615</td>\n",
       "      <td>56642.0</td>\n",
       "    </tr>\n",
       "    <tr>\n",
       "      <th>6</th>\n",
       "      <td>45469.876616</td>\n",
       "      <td>60150.0</td>\n",
       "    </tr>\n",
       "    <tr>\n",
       "      <th>7</th>\n",
       "      <td>47823.780618</td>\n",
       "      <td>54445.0</td>\n",
       "    </tr>\n",
       "    <tr>\n",
       "      <th>8</th>\n",
       "      <td>47823.780618</td>\n",
       "      <td>64445.0</td>\n",
       "    </tr>\n",
       "    <tr>\n",
       "      <th>9</th>\n",
       "      <td>53708.540623</td>\n",
       "      <td>57189.0</td>\n",
       "    </tr>\n",
       "    <tr>\n",
       "      <th>10</th>\n",
       "      <td>56062.444625</td>\n",
       "      <td>63218.0</td>\n",
       "    </tr>\n",
       "    <tr>\n",
       "      <th>11</th>\n",
       "      <td>57239.396626</td>\n",
       "      <td>55794.0</td>\n",
       "    </tr>\n",
       "    <tr>\n",
       "      <th>12</th>\n",
       "      <td>57239.396626</td>\n",
       "      <td>56957.0</td>\n",
       "    </tr>\n",
       "    <tr>\n",
       "      <th>13</th>\n",
       "      <td>58416.348627</td>\n",
       "      <td>57081.0</td>\n",
       "    </tr>\n",
       "    <tr>\n",
       "      <th>14</th>\n",
       "      <td>63124.156630</td>\n",
       "      <td>61111.0</td>\n",
       "    </tr>\n",
       "    <tr>\n",
       "      <th>15</th>\n",
       "      <td>67831.964634</td>\n",
       "      <td>67938.0</td>\n",
       "    </tr>\n",
       "    <tr>\n",
       "      <th>16</th>\n",
       "      <td>70185.868636</td>\n",
       "      <td>66029.0</td>\n",
       "    </tr>\n",
       "    <tr>\n",
       "      <th>17</th>\n",
       "      <td>72539.772638</td>\n",
       "      <td>83088.0</td>\n",
       "    </tr>\n",
       "    <tr>\n",
       "      <th>18</th>\n",
       "      <td>79601.484643</td>\n",
       "      <td>81363.0</td>\n",
       "    </tr>\n",
       "    <tr>\n",
       "      <th>19</th>\n",
       "      <td>80778.436644</td>\n",
       "      <td>93940.0</td>\n",
       "    </tr>\n",
       "    <tr>\n",
       "      <th>20</th>\n",
       "      <td>90194.052652</td>\n",
       "      <td>91738.0</td>\n",
       "    </tr>\n",
       "    <tr>\n",
       "      <th>21</th>\n",
       "      <td>93724.908654</td>\n",
       "      <td>98273.0</td>\n",
       "    </tr>\n",
       "    <tr>\n",
       "      <th>22</th>\n",
       "      <td>103140.524662</td>\n",
       "      <td>101302.0</td>\n",
       "    </tr>\n",
       "    <tr>\n",
       "      <th>23</th>\n",
       "      <td>106671.380665</td>\n",
       "      <td>113812.0</td>\n",
       "    </tr>\n",
       "    <tr>\n",
       "      <th>24</th>\n",
       "      <td>112556.140669</td>\n",
       "      <td>109431.0</td>\n",
       "    </tr>\n",
       "    <tr>\n",
       "      <th>25</th>\n",
       "      <td>116086.996672</td>\n",
       "      <td>105582.0</td>\n",
       "    </tr>\n",
       "    <tr>\n",
       "      <th>26</th>\n",
       "      <td>121971.756677</td>\n",
       "      <td>116969.0</td>\n",
       "    </tr>\n",
       "    <tr>\n",
       "      <th>27</th>\n",
       "      <td>123148.708678</td>\n",
       "      <td>112635.0</td>\n",
       "    </tr>\n",
       "    <tr>\n",
       "      <th>28</th>\n",
       "      <td>131387.372684</td>\n",
       "      <td>122391.0</td>\n",
       "    </tr>\n",
       "    <tr>\n",
       "      <th>29</th>\n",
       "      <td>133741.276686</td>\n",
       "      <td>121872.0</td>\n",
       "    </tr>\n",
       "  </tbody>\n",
       "</table>\n",
       "</div>"
      ],
      "text/plain": [
       "        Predicted  Actual Value\n",
       "0    23107.788599       39343.0\n",
       "1    25461.692601       46205.0\n",
       "2    27815.596602       37731.0\n",
       "3    33700.356607       43525.0\n",
       "4    36054.260609       39891.0\n",
       "5    44292.924615       56642.0\n",
       "6    45469.876616       60150.0\n",
       "7    47823.780618       54445.0\n",
       "8    47823.780618       64445.0\n",
       "9    53708.540623       57189.0\n",
       "10   56062.444625       63218.0\n",
       "11   57239.396626       55794.0\n",
       "12   57239.396626       56957.0\n",
       "13   58416.348627       57081.0\n",
       "14   63124.156630       61111.0\n",
       "15   67831.964634       67938.0\n",
       "16   70185.868636       66029.0\n",
       "17   72539.772638       83088.0\n",
       "18   79601.484643       81363.0\n",
       "19   80778.436644       93940.0\n",
       "20   90194.052652       91738.0\n",
       "21   93724.908654       98273.0\n",
       "22  103140.524662      101302.0\n",
       "23  106671.380665      113812.0\n",
       "24  112556.140669      109431.0\n",
       "25  116086.996672      105582.0\n",
       "26  121971.756677      116969.0\n",
       "27  123148.708678      112635.0\n",
       "28  131387.372684      122391.0\n",
       "29  133741.276686      121872.0"
      ]
     },
     "execution_count": 63,
     "metadata": {},
     "output_type": "execute_result"
    }
   ],
   "source": [
    "df = pd.DataFrame({\"Predicted\": Y_pred,\n",
    "       \"Actual Value\": Y }) \n",
    "df"
   ]
  },
  {
   "cell_type": "code",
   "execution_count": 64,
   "id": "30f26eb4-3a99-4813-876b-a2ead6a01de8",
   "metadata": {},
   "outputs": [
    {
     "name": "stdout",
     "output_type": "stream",
     "text": [
      "Y = 10161.316588560652 + (11769.520009282598 * X)\n"
     ]
    }
   ],
   "source": [
    "print(\"Y = {} + ({} * X)\".format(c,m))"
   ]
  },
  {
   "cell_type": "code",
   "execution_count": 65,
   "id": "d3f83c66-094f-4aa4-afa0-19b8977c7917",
   "metadata": {},
   "outputs": [],
   "source": [
    "def Predict(X):\n",
    "    Y = 2915.2044856014018 + (12836.600965885045 * X)\n",
    "    return Y\n"
   ]
  },
  {
   "cell_type": "code",
   "execution_count": 66,
   "id": "d1e673ff-0ebf-46ea-902b-1323d06d5d22",
   "metadata": {},
   "outputs": [
    {
     "data": {
      "text/plain": [
       "31155.726610548503"
      ]
     },
     "execution_count": 66,
     "metadata": {},
     "output_type": "execute_result"
    }
   ],
   "source": [
    "Predict(2.2)"
   ]
  },
  {
   "cell_type": "code",
   "execution_count": null,
   "id": "5e270c14-6fcd-448b-a3c7-019c9b326be0",
   "metadata": {},
   "outputs": [],
   "source": []
  }
 ],
 "metadata": {
  "kernelspec": {
   "display_name": "Python 3 (ipykernel)",
   "language": "python",
   "name": "python3"
  },
  "language_info": {
   "codemirror_mode": {
    "name": "ipython",
    "version": 3
   },
   "file_extension": ".py",
   "mimetype": "text/x-python",
   "name": "python",
   "nbconvert_exporter": "python",
   "pygments_lexer": "ipython3",
   "version": "3.10.8"
  }
 },
 "nbformat": 4,
 "nbformat_minor": 5
}
