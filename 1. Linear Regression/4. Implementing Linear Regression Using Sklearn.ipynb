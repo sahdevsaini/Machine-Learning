{
 "cells": [
  {
   "cell_type": "markdown",
   "id": "b45e81c7-6d11-4ffe-ade2-9ba371619b7f",
   "metadata": {},
   "source": [
    "## Implementing simple linear regression using sklearn\n",
    "We are now going to implement the same algorithm using sklearn"
   ]
  },
  {
   "cell_type": "markdown",
   "id": "4ffcf360-26de-40aa-a9c7-8ae06cdd8987",
   "metadata": {},
   "source": [
    "#### Importing Libraries"
   ]
  },
  {
   "cell_type": "code",
   "execution_count": 22,
   "id": "dc0ca031-985a-41a1-98b0-02af42588a16",
   "metadata": {},
   "outputs": [],
   "source": [
    "import pandas as pd\n",
    "import numpy as np\n",
    "from matplotlib import pyplot as plt\n",
    "from math import sqrt"
   ]
  },
  {
   "cell_type": "markdown",
   "id": "d5b83c6e-751d-4d35-9b53-1176a23eb886",
   "metadata": {},
   "source": [
    "#### Importing Data"
   ]
  },
  {
   "cell_type": "code",
   "execution_count": 23,
   "id": "c8202078-fe29-4a4a-9cec-64b02d1dda71",
   "metadata": {},
   "outputs": [],
   "source": [
    "df = pd.read_csv(\"https://raw.githubusercontent.com/sahdevsaini/Data-Set/main/Salary_Data.csv\")"
   ]
  },
  {
   "cell_type": "code",
   "execution_count": 24,
   "id": "36efb18c-110f-459b-92c5-8b53faa86f94",
   "metadata": {},
   "outputs": [
    {
     "data": {
      "text/plain": [
       "(30, 2)"
      ]
     },
     "execution_count": 24,
     "metadata": {},
     "output_type": "execute_result"
    }
   ],
   "source": [
    "df.shape"
   ]
  },
  {
   "cell_type": "code",
   "execution_count": 25,
   "id": "d6ba44ef-f824-483c-bda5-71ab4f285a7d",
   "metadata": {},
   "outputs": [
    {
     "data": {
      "text/html": [
       "<div>\n",
       "<style scoped>\n",
       "    .dataframe tbody tr th:only-of-type {\n",
       "        vertical-align: middle;\n",
       "    }\n",
       "\n",
       "    .dataframe tbody tr th {\n",
       "        vertical-align: top;\n",
       "    }\n",
       "\n",
       "    .dataframe thead th {\n",
       "        text-align: right;\n",
       "    }\n",
       "</style>\n",
       "<table border=\"1\" class=\"dataframe\">\n",
       "  <thead>\n",
       "    <tr style=\"text-align: right;\">\n",
       "      <th></th>\n",
       "      <th>YearsExperience</th>\n",
       "      <th>Salary</th>\n",
       "    </tr>\n",
       "  </thead>\n",
       "  <tbody>\n",
       "    <tr>\n",
       "      <th>count</th>\n",
       "      <td>30.000000</td>\n",
       "      <td>30.000000</td>\n",
       "    </tr>\n",
       "    <tr>\n",
       "      <th>mean</th>\n",
       "      <td>5.313333</td>\n",
       "      <td>76003.000000</td>\n",
       "    </tr>\n",
       "    <tr>\n",
       "      <th>std</th>\n",
       "      <td>2.837888</td>\n",
       "      <td>27414.429785</td>\n",
       "    </tr>\n",
       "    <tr>\n",
       "      <th>min</th>\n",
       "      <td>1.100000</td>\n",
       "      <td>37731.000000</td>\n",
       "    </tr>\n",
       "    <tr>\n",
       "      <th>25%</th>\n",
       "      <td>3.200000</td>\n",
       "      <td>56720.750000</td>\n",
       "    </tr>\n",
       "    <tr>\n",
       "      <th>50%</th>\n",
       "      <td>4.700000</td>\n",
       "      <td>65237.000000</td>\n",
       "    </tr>\n",
       "    <tr>\n",
       "      <th>75%</th>\n",
       "      <td>7.700000</td>\n",
       "      <td>100544.750000</td>\n",
       "    </tr>\n",
       "    <tr>\n",
       "      <th>max</th>\n",
       "      <td>10.500000</td>\n",
       "      <td>122391.000000</td>\n",
       "    </tr>\n",
       "  </tbody>\n",
       "</table>\n",
       "</div>"
      ],
      "text/plain": [
       "       YearsExperience         Salary\n",
       "count        30.000000      30.000000\n",
       "mean          5.313333   76003.000000\n",
       "std           2.837888   27414.429785\n",
       "min           1.100000   37731.000000\n",
       "25%           3.200000   56720.750000\n",
       "50%           4.700000   65237.000000\n",
       "75%           7.700000  100544.750000\n",
       "max          10.500000  122391.000000"
      ]
     },
     "execution_count": 25,
     "metadata": {},
     "output_type": "execute_result"
    }
   ],
   "source": [
    "df.describe()"
   ]
  },
  {
   "cell_type": "code",
   "execution_count": 26,
   "id": "f2943c73-0fc7-4442-becf-be58bacc92be",
   "metadata": {},
   "outputs": [
    {
     "name": "stdout",
     "output_type": "stream",
     "text": [
      "<class 'pandas.core.frame.DataFrame'>\n",
      "RangeIndex: 30 entries, 0 to 29\n",
      "Data columns (total 2 columns):\n",
      " #   Column           Non-Null Count  Dtype  \n",
      "---  ------           --------------  -----  \n",
      " 0   YearsExperience  30 non-null     float64\n",
      " 1   Salary           30 non-null     float64\n",
      "dtypes: float64(2)\n",
      "memory usage: 608.0 bytes\n"
     ]
    }
   ],
   "source": [
    "df.info()"
   ]
  },
  {
   "cell_type": "markdown",
   "id": "0612ef35-f926-4dea-84b3-54f587047515",
   "metadata": {},
   "source": [
    "#### Selecting Dependent Variable & Independent Varible "
   ]
  },
  {
   "cell_type": "code",
   "execution_count": 53,
   "id": "6336a0cc-716e-47ea-9491-8b56c910b33e",
   "metadata": {},
   "outputs": [],
   "source": [
    "X = df.iloc[:,:1]         # Independent Varible (Year Of Experiance)\n",
    "y = df.iloc[:,-1]         # Dependent varible (Salary)"
   ]
  },
  {
   "cell_type": "markdown",
   "id": "3ce0cff6-d520-4050-87c3-527d9bca9e27",
   "metadata": {},
   "source": [
    "#### And now we split the data into training and testing. With shuffeling of course. And we reshape the training and testing X value."
   ]
  },
  {
   "cell_type": "code",
   "execution_count": 85,
   "id": "eaa63e19-31ec-4e68-a155-34eca68a7995",
   "metadata": {},
   "outputs": [],
   "source": [
    "from sklearn.model_selection import train_test_split\n",
    "train_x, test_x, train_y, test_y = train_test_split(X,y,test_size=0.2)"
   ]
  },
  {
   "cell_type": "markdown",
   "id": "92e80e94-5b1f-4022-923e-f084c8a05a14",
   "metadata": {},
   "source": [
    "#### Then we fit our linear regression model."
   ]
  },
  {
   "cell_type": "code",
   "execution_count": 86,
   "id": "3cd0e529-d712-4a92-9850-0aa7e68e1fa9",
   "metadata": {},
   "outputs": [
    {
     "data": {
      "text/html": [
       "<style>#sk-container-id-5 {color: black;background-color: white;}#sk-container-id-5 pre{padding: 0;}#sk-container-id-5 div.sk-toggleable {background-color: white;}#sk-container-id-5 label.sk-toggleable__label {cursor: pointer;display: block;width: 100%;margin-bottom: 0;padding: 0.3em;box-sizing: border-box;text-align: center;}#sk-container-id-5 label.sk-toggleable__label-arrow:before {content: \"▸\";float: left;margin-right: 0.25em;color: #696969;}#sk-container-id-5 label.sk-toggleable__label-arrow:hover:before {color: black;}#sk-container-id-5 div.sk-estimator:hover label.sk-toggleable__label-arrow:before {color: black;}#sk-container-id-5 div.sk-toggleable__content {max-height: 0;max-width: 0;overflow: hidden;text-align: left;background-color: #f0f8ff;}#sk-container-id-5 div.sk-toggleable__content pre {margin: 0.2em;color: black;border-radius: 0.25em;background-color: #f0f8ff;}#sk-container-id-5 input.sk-toggleable__control:checked~div.sk-toggleable__content {max-height: 200px;max-width: 100%;overflow: auto;}#sk-container-id-5 input.sk-toggleable__control:checked~label.sk-toggleable__label-arrow:before {content: \"▾\";}#sk-container-id-5 div.sk-estimator input.sk-toggleable__control:checked~label.sk-toggleable__label {background-color: #d4ebff;}#sk-container-id-5 div.sk-label input.sk-toggleable__control:checked~label.sk-toggleable__label {background-color: #d4ebff;}#sk-container-id-5 input.sk-hidden--visually {border: 0;clip: rect(1px 1px 1px 1px);clip: rect(1px, 1px, 1px, 1px);height: 1px;margin: -1px;overflow: hidden;padding: 0;position: absolute;width: 1px;}#sk-container-id-5 div.sk-estimator {font-family: monospace;background-color: #f0f8ff;border: 1px dotted black;border-radius: 0.25em;box-sizing: border-box;margin-bottom: 0.5em;}#sk-container-id-5 div.sk-estimator:hover {background-color: #d4ebff;}#sk-container-id-5 div.sk-parallel-item::after {content: \"\";width: 100%;border-bottom: 1px solid gray;flex-grow: 1;}#sk-container-id-5 div.sk-label:hover label.sk-toggleable__label {background-color: #d4ebff;}#sk-container-id-5 div.sk-serial::before {content: \"\";position: absolute;border-left: 1px solid gray;box-sizing: border-box;top: 0;bottom: 0;left: 50%;z-index: 0;}#sk-container-id-5 div.sk-serial {display: flex;flex-direction: column;align-items: center;background-color: white;padding-right: 0.2em;padding-left: 0.2em;position: relative;}#sk-container-id-5 div.sk-item {position: relative;z-index: 1;}#sk-container-id-5 div.sk-parallel {display: flex;align-items: stretch;justify-content: center;background-color: white;position: relative;}#sk-container-id-5 div.sk-item::before, #sk-container-id-5 div.sk-parallel-item::before {content: \"\";position: absolute;border-left: 1px solid gray;box-sizing: border-box;top: 0;bottom: 0;left: 50%;z-index: -1;}#sk-container-id-5 div.sk-parallel-item {display: flex;flex-direction: column;z-index: 1;position: relative;background-color: white;}#sk-container-id-5 div.sk-parallel-item:first-child::after {align-self: flex-end;width: 50%;}#sk-container-id-5 div.sk-parallel-item:last-child::after {align-self: flex-start;width: 50%;}#sk-container-id-5 div.sk-parallel-item:only-child::after {width: 0;}#sk-container-id-5 div.sk-dashed-wrapped {border: 1px dashed gray;margin: 0 0.4em 0.5em 0.4em;box-sizing: border-box;padding-bottom: 0.4em;background-color: white;}#sk-container-id-5 div.sk-label label {font-family: monospace;font-weight: bold;display: inline-block;line-height: 1.2em;}#sk-container-id-5 div.sk-label-container {text-align: center;}#sk-container-id-5 div.sk-container {/* jupyter's `normalize.less` sets `[hidden] { display: none; }` but bootstrap.min.css set `[hidden] { display: none !important; }` so we also need the `!important` here to be able to override the default hidden behavior on the sphinx rendered scikit-learn.org. See: https://github.com/scikit-learn/scikit-learn/issues/21755 */display: inline-block !important;position: relative;}#sk-container-id-5 div.sk-text-repr-fallback {display: none;}</style><div id=\"sk-container-id-5\" class=\"sk-top-container\"><div class=\"sk-text-repr-fallback\"><pre>LinearRegression()</pre><b>In a Jupyter environment, please rerun this cell to show the HTML representation or trust the notebook. <br />On GitHub, the HTML representation is unable to render, please try loading this page with nbviewer.org.</b></div><div class=\"sk-container\" hidden><div class=\"sk-item\"><div class=\"sk-estimator sk-toggleable\"><input class=\"sk-toggleable__control sk-hidden--visually\" id=\"sk-estimator-id-5\" type=\"checkbox\" checked><label for=\"sk-estimator-id-5\" class=\"sk-toggleable__label sk-toggleable__label-arrow\">LinearRegression</label><div class=\"sk-toggleable__content\"><pre>LinearRegression()</pre></div></div></div></div></div>"
      ],
      "text/plain": [
       "LinearRegression()"
      ]
     },
     "execution_count": 86,
     "metadata": {},
     "output_type": "execute_result"
    }
   ],
   "source": [
    "from sklearn.linear_model import LinearRegression\n",
    "simple_linear_regression = LinearRegression()\n",
    "simple_linear_regression.fit(train_x,train_y)"
   ]
  },
  {
   "cell_type": "markdown",
   "id": "47c6b994-3663-480b-a7ed-fd17a137c7db",
   "metadata": {},
   "source": [
    "We can then test our model with the predict function and see how well it did with the mean_squared_error function"
   ]
  },
  {
   "cell_type": "code",
   "execution_count": 87,
   "id": "fda8ae2f-81e6-4bf0-b12f-695d63803983",
   "metadata": {},
   "outputs": [
    {
     "name": "stdout",
     "output_type": "stream",
     "text": [
      "Root Mean Squared Error value = 6202.769090449295\n"
     ]
    }
   ],
   "source": [
    "from sklearn.metrics import mean_squared_error\n",
    "predicted_y = simple_linear_regression.predict(test_x)\n",
    "rmse = sqrt(mean_squared_error(test_y,predicted_y))\n",
    "\n",
    "print(\"Root Mean Squared Error value = {}\".format(rmse))"
   ]
  },
  {
   "cell_type": "markdown",
   "id": "2a3c6bc4-8096-4fd3-88c9-01843a29b901",
   "metadata": {},
   "source": [
    "#### Slope of best fit Line"
   ]
  },
  {
   "cell_type": "code",
   "execution_count": 88,
   "id": "6db48068-9b54-4df1-b253-579bd0ee6aa3",
   "metadata": {},
   "outputs": [
    {
     "data": {
      "text/plain": [
       "9784.283835789967"
      ]
     },
     "execution_count": 88,
     "metadata": {},
     "output_type": "execute_result"
    }
   ],
   "source": [
    "m= simple_linear_regression.coef_[0]\n",
    "m"
   ]
  },
  {
   "cell_type": "markdown",
   "id": "76053586-fb6f-491a-afc5-73f46f603145",
   "metadata": {},
   "source": [
    "#### Intercept of best Fit line"
   ]
  },
  {
   "cell_type": "code",
   "execution_count": 99,
   "id": "ee6b04f3-2e7c-42d5-8b5c-a3b002d853cc",
   "metadata": {},
   "outputs": [
    {
     "data": {
      "text/plain": [
       "23518.159117769224"
      ]
     },
     "execution_count": 99,
     "metadata": {},
     "output_type": "execute_result"
    }
   ],
   "source": [
    "b = simple_linear_regression.intercept_\n",
    "b"
   ]
  },
  {
   "cell_type": "markdown",
   "id": "acaf83d3-07dc-4204-a8a8-66ae53466cfd",
   "metadata": {},
   "source": [
    "#### Equation of best fit line"
   ]
  },
  {
   "cell_type": "code",
   "execution_count": 90,
   "id": "a3451e19-fedf-4f7a-a443-765cf109162a",
   "metadata": {},
   "outputs": [
    {
     "name": "stdout",
     "output_type": "stream",
     "text": [
      "Y = (23518.159117769224 * X)+ 9784.283835789967\n"
     ]
    }
   ],
   "source": [
    "print(\"Y = ({} * X)+ {}\".format(b,m))"
   ]
  },
  {
   "cell_type": "code",
   "execution_count": 91,
   "id": "b1526cd5-b23a-47e5-8c18-1a116dcb8695",
   "metadata": {},
   "outputs": [],
   "source": [
    "def plot_linear_regression_result(x,y,predicted_y):\n",
    "    # plotting the actual points as a scatter\n",
    "    plt.figure(figsize=(8,4))\n",
    "    plt.scatter(x,y,color = \"g\", marker = \"o\",s=30)\n",
    "    \n",
    "    # plotting the regression line\n",
    "    plt.plot(x, predicted_y, color = \"r\", linewidth=2)\n",
    " \n",
    "    # putting labels\n",
    "    plt.title('Linear regression of Year of Experiance & Salary')\n",
    "    plt.xlabel('YearsExperience')\n",
    "    plt.ylabel('Salary')\n",
    " \n",
    "    # function to show plot\n",
    "    plt.show()"
   ]
  },
  {
   "cell_type": "code",
   "execution_count": 92,
   "id": "4f8a8abc-d0d8-49a0-9645-b621224cbbe4",
   "metadata": {},
   "outputs": [
    {
     "data": {
      "image/png": "[encoded data removed]",
      "text/plain": [
       "<Figure size 800x400 with 1 Axes>"
      ]
     },
     "metadata": {},
     "output_type": "display_data"
    }
   ],
   "source": [
    "plot_linear_regression_result(test_x,test_y,predicted_y)"
   ]
  },
  {
   "cell_type": "code",
   "execution_count": 93,
   "id": "9c48efda-8094-49cc-a0b6-495fa92f0689",
   "metadata": {},
   "outputs": [
    {
     "name": "stdout",
     "output_type": "stream",
     "text": [
      "Mean Absolute Error (MAE): 4641.163344111464\n",
      "Mean Squared Error (MSE): 38474344.38943317\n",
      "Root Mean Squared Error (RMSE): 6202.769090449295\n",
      "R-squared (R2) Score: 0.9340019094387474\n"
     ]
    }
   ],
   "source": [
    "from sklearn.metrics import mean_absolute_error, mean_squared_error, r2_score\n",
    "\n",
    "# Calculate Mean Absolute Error (MAE)\n",
    "mae = mean_absolute_error(test_y, predicted_y)\n",
    "\n",
    "# Calculate Mean Squared Error (MSE)\n",
    "mse = mean_squared_error(test_y, predicted_y)\n",
    "\n",
    "# Calculate Root Mean Squared Error (RMSE)\n",
    "rmse = mean_squared_error(test_y, predicted_y, squared=False)\n",
    "\n",
    "# Calculate R-squared (R2) Score\n",
    "r2 = r2_score(test_y, predicted_y)\n",
    "\n",
    "print(\"Mean Absolute Error (MAE):\", mae)\n",
    "print(\"Mean Squared Error (MSE):\", mse)\n",
    "print(\"Root Mean Squared Error (RMSE):\", rmse)\n",
    "print(\"R-squared (R2) Score:\", r2)\n"
   ]
  },
  {
   "cell_type": "markdown",
   "id": "451d560b-917a-454d-a3c5-1aefc8943b88",
   "metadata": {},
   "source": [
    "#### Accuracy of model"
   ]
  },
  {
   "cell_type": "code",
   "execution_count": 94,
   "id": "d1ee7f5b-96bc-44d9-853d-0dc53d33ae64",
   "metadata": {},
   "outputs": [
    {
     "name": "stdout",
     "output_type": "stream",
     "text": [
      "Accuacy of model:- 93.40019094387473\n"
     ]
    }
   ],
   "source": [
    "print(\"Accuacy of model:-\", r2*100)"
   ]
  },
  {
   "cell_type": "markdown",
   "id": "d4e4e79d-8759-4d73-8407-53e083a5f215",
   "metadata": {},
   "source": [
    "#### Predication model"
   ]
  },
  {
   "cell_type": "code",
   "execution_count": 95,
   "id": "debb88da-f935-4118-9e83-a5073116eaae",
   "metadata": {},
   "outputs": [],
   "source": [
    "def predication(X):\n",
    "    Y = (26858.283390428558 * X)+ 9257.234097109678\n",
    "    return Y"
   ]
  },
  {
   "cell_type": "code",
   "execution_count": 96,
   "id": "4b1443bd-4c40-434f-b40d-718df5d82b2d",
   "metadata": {},
   "outputs": [
    {
     "data": {
      "text/plain": [
       "68345.45755605251"
      ]
     },
     "execution_count": 96,
     "metadata": {},
     "output_type": "execute_result"
    }
   ],
   "source": [
    "predication(2.2)"
   ]
  },
  {
   "cell_type": "markdown",
   "id": "4eb813a2-5e68-4505-9eae-b8ca5fabac3a",
   "metadata": {},
   "source": [
    "#### Comparsion of Predicated value & Actual value"
   ]
  },
  {
   "cell_type": "code",
   "execution_count": 97,
   "id": "588cfc13-8cc9-4033-b08b-a5670f78e452",
   "metadata": {},
   "outputs": [
    {
     "data": {
      "text/html": [
       "<div>\n",
       "<style scoped>\n",
       "    .dataframe tbody tr th:only-of-type {\n",
       "        vertical-align: middle;\n",
       "    }\n",
       "\n",
       "    .dataframe tbody tr th {\n",
       "        vertical-align: top;\n",
       "    }\n",
       "\n",
       "    .dataframe thead th {\n",
       "        text-align: right;\n",
       "    }\n",
       "</style>\n",
       "<table border=\"1\" class=\"dataframe\">\n",
       "  <thead>\n",
       "    <tr style=\"text-align: right;\">\n",
       "      <th></th>\n",
       "      <th>Predicated Value</th>\n",
       "      <th>Actual Value</th>\n",
       "    </tr>\n",
       "  </thead>\n",
       "  <tbody>\n",
       "    <tr>\n",
       "      <th>25</th>\n",
       "      <td>111576.713640</td>\n",
       "      <td>105582.0</td>\n",
       "    </tr>\n",
       "    <tr>\n",
       "      <th>1</th>\n",
       "      <td>36237.728104</td>\n",
       "      <td>46205.0</td>\n",
       "    </tr>\n",
       "    <tr>\n",
       "      <th>2</th>\n",
       "      <td>38194.584871</td>\n",
       "      <td>37731.0</td>\n",
       "    </tr>\n",
       "    <tr>\n",
       "      <th>18</th>\n",
       "      <td>81245.433749</td>\n",
       "      <td>81363.0</td>\n",
       "    </tr>\n",
       "    <tr>\n",
       "      <th>8</th>\n",
       "      <td>54827.867392</td>\n",
       "      <td>64445.0</td>\n",
       "    </tr>\n",
       "    <tr>\n",
       "      <th>20</th>\n",
       "      <td>90051.289201</td>\n",
       "      <td>91738.0</td>\n",
       "    </tr>\n",
       "  </tbody>\n",
       "</table>\n",
       "</div>"
      ],
      "text/plain": [
       "    Predicated Value  Actual Value\n",
       "25     111576.713640      105582.0\n",
       "1       36237.728104       46205.0\n",
       "2       38194.584871       37731.0\n",
       "18      81245.433749       81363.0\n",
       "8       54827.867392       64445.0\n",
       "20      90051.289201       91738.0"
      ]
     },
     "execution_count": 97,
     "metadata": {},
     "output_type": "execute_result"
    }
   ],
   "source": [
    "pd.DataFrame({\"Predicated Value\" : predicted_y,\n",
    "              \"Actual Value\" : test_y})"
   ]
  },
  {
   "cell_type": "code",
   "execution_count": 100,
   "id": "c7dae18f-920c-4b6e-890c-24c8bf3fe879",
   "metadata": {},
   "outputs": [
    {
     "name": "stdout",
     "output_type": "stream",
     "text": [
      "<class 'pandas.core.frame.DataFrame'>\n",
      "RangeIndex: 30 entries, 0 to 29\n",
      "Data columns (total 2 columns):\n",
      " #   Column           Non-Null Count  Dtype  \n",
      "---  ------           --------------  -----  \n",
      " 0   YearsExperience  30 non-null     float64\n",
      " 1   Salary           30 non-null     float64\n",
      "dtypes: float64(2)\n",
      "memory usage: 608.0 bytes\n"
     ]
    }
   ],
   "source": [
    "df.info()"
   ]
  },
  {
   "cell_type": "code",
   "execution_count": null,
   "id": "5b0c1d40-7f68-4c18-a964-9882f9ab38bd",
   "metadata": {},
   "outputs": [],
   "source": []
  }
 ],
 "metadata": {
  "kernelspec": {
   "display_name": "Python 3 (ipykernel)",
   "language": "python",
   "name": "python3"
  },
  "language_info": {
   "codemirror_mode": {
    "name": "ipython",
    "version": 3
   },
   "file_extension": ".py",
   "mimetype": "text/x-python",
   "name": "python",
   "nbconvert_exporter": "python",
   "pygments_lexer": "ipython3",
   "version": "3.10.8"
  }
 },
 "nbformat": 4,
 "nbformat_minor": 5
}
