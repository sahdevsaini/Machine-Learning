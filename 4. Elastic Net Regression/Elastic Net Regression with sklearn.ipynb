{
 "cells": [
  {
   "cell_type": "markdown",
   "id": "b45e81c7-6d11-4ffe-ade2-9ba371619b7f",
   "metadata": {},
   "source": [
    "## Implementing Elastic Net(L2 regularization) using sklearn\n",
    "We are now going to implement the same algorithm using sklearn"
   ]
  },
  {
   "cell_type": "markdown",
   "id": "4ffcf360-26de-40aa-a9c7-8ae06cdd8987",
   "metadata": {},
   "source": [
    "#### Importing Libraries"
   ]
  },
  {
   "cell_type": "code",
   "execution_count": 8,
   "id": "dc0ca031-985a-41a1-98b0-02af42588a16",
   "metadata": {},
   "outputs": [],
   "source": [
    "import pandas as pd\n",
    "import numpy as np\n",
    "from matplotlib import pyplot as plt\n",
    "from math import sqrt"
   ]
  },
  {
   "cell_type": "markdown",
   "id": "d5b83c6e-751d-4d35-9b53-1176a23eb886",
   "metadata": {},
   "source": [
    "#### Importing Data"
   ]
  },
  {
   "cell_type": "code",
   "execution_count": 9,
   "id": "c8202078-fe29-4a4a-9cec-64b02d1dda71",
   "metadata": {},
   "outputs": [],
   "source": [
    "df = pd.read_csv(\"https://raw.githubusercontent.com/sahdevsaini/Data-Set/main/Salary_Data.csv\")"
   ]
  },
  {
   "cell_type": "code",
   "execution_count": 10,
   "id": "36efb18c-110f-459b-92c5-8b53faa86f94",
   "metadata": {},
   "outputs": [
    {
     "data": {
      "text/plain": [
       "(30, 2)"
      ]
     },
     "execution_count": 10,
     "metadata": {},
     "output_type": "execute_result"
    }
   ],
   "source": [
    "df.shape"
   ]
  },
  {
   "cell_type": "code",
   "execution_count": 11,
   "id": "d6ba44ef-f824-483c-bda5-71ab4f285a7d",
   "metadata": {},
   "outputs": [
    {
     "data": {
      "text/html": [
       "<div>\n",
       "<style scoped>\n",
       "    .dataframe tbody tr th:only-of-type {\n",
       "        vertical-align: middle;\n",
       "    }\n",
       "\n",
       "    .dataframe tbody tr th {\n",
       "        vertical-align: top;\n",
       "    }\n",
       "\n",
       "    .dataframe thead th {\n",
       "        text-align: right;\n",
       "    }\n",
       "</style>\n",
       "<table border=\"1\" class=\"dataframe\">\n",
       "  <thead>\n",
       "    <tr style=\"text-align: right;\">\n",
       "      <th></th>\n",
       "      <th>YearsExperience</th>\n",
       "      <th>Salary</th>\n",
       "    </tr>\n",
       "  </thead>\n",
       "  <tbody>\n",
       "    <tr>\n",
       "      <th>count</th>\n",
       "      <td>30.000000</td>\n",
       "      <td>30.000000</td>\n",
       "    </tr>\n",
       "    <tr>\n",
       "      <th>mean</th>\n",
       "      <td>5.313333</td>\n",
       "      <td>76003.000000</td>\n",
       "    </tr>\n",
       "    <tr>\n",
       "      <th>std</th>\n",
       "      <td>2.837888</td>\n",
       "      <td>27414.429785</td>\n",
       "    </tr>\n",
       "    <tr>\n",
       "      <th>min</th>\n",
       "      <td>1.100000</td>\n",
       "      <td>37731.000000</td>\n",
       "    </tr>\n",
       "    <tr>\n",
       "      <th>25%</th>\n",
       "      <td>3.200000</td>\n",
       "      <td>56720.750000</td>\n",
       "    </tr>\n",
       "    <tr>\n",
       "      <th>50%</th>\n",
       "      <td>4.700000</td>\n",
       "      <td>65237.000000</td>\n",
       "    </tr>\n",
       "    <tr>\n",
       "      <th>75%</th>\n",
       "      <td>7.700000</td>\n",
       "      <td>100544.750000</td>\n",
       "    </tr>\n",
       "    <tr>\n",
       "      <th>max</th>\n",
       "      <td>10.500000</td>\n",
       "      <td>122391.000000</td>\n",
       "    </tr>\n",
       "  </tbody>\n",
       "</table>\n",
       "</div>"
      ],
      "text/plain": [
       "       YearsExperience         Salary\n",
       "count        30.000000      30.000000\n",
       "mean          5.313333   76003.000000\n",
       "std           2.837888   27414.429785\n",
       "min           1.100000   37731.000000\n",
       "25%           3.200000   56720.750000\n",
       "50%           4.700000   65237.000000\n",
       "75%           7.700000  100544.750000\n",
       "max          10.500000  122391.000000"
      ]
     },
     "execution_count": 11,
     "metadata": {},
     "output_type": "execute_result"
    }
   ],
   "source": [
    "df.describe()"
   ]
  },
  {
   "cell_type": "code",
   "execution_count": 12,
   "id": "f2943c73-0fc7-4442-becf-be58bacc92be",
   "metadata": {},
   "outputs": [
    {
     "name": "stdout",
     "output_type": "stream",
     "text": [
      "<class 'pandas.core.frame.DataFrame'>\n",
      "RangeIndex: 30 entries, 0 to 29\n",
      "Data columns (total 2 columns):\n",
      " #   Column           Non-Null Count  Dtype  \n",
      "---  ------           --------------  -----  \n",
      " 0   YearsExperience  30 non-null     float64\n",
      " 1   Salary           30 non-null     float64\n",
      "dtypes: float64(2)\n",
      "memory usage: 608.0 bytes\n"
     ]
    }
   ],
   "source": [
    "df.info()"
   ]
  },
  {
   "cell_type": "markdown",
   "id": "0612ef35-f926-4dea-84b3-54f587047515",
   "metadata": {},
   "source": [
    "#### Selecting Dependent Variable & Independent Varible "
   ]
  },
  {
   "cell_type": "code",
   "execution_count": 13,
   "id": "6336a0cc-716e-47ea-9491-8b56c910b33e",
   "metadata": {},
   "outputs": [],
   "source": [
    "X = df.iloc[:,:1]         # Independent Varible (Year Of Experiance)\n",
    "y = df.iloc[:,-1]         # Dependent varible (Salary)"
   ]
  },
  {
   "cell_type": "markdown",
   "id": "3ce0cff6-d520-4050-87c3-527d9bca9e27",
   "metadata": {},
   "source": [
    "#### And now we split the data into training and testing. With shuffeling of course. And we reshape the training and testing X value."
   ]
  },
  {
   "cell_type": "code",
   "execution_count": 14,
   "id": "eaa63e19-31ec-4e68-a155-34eca68a7995",
   "metadata": {},
   "outputs": [],
   "source": [
    "from sklearn.model_selection import train_test_split\n",
    "X_train, X_test, y_train, y_test = train_test_split(X,y,test_size=0.2)"
   ]
  },
  {
   "cell_type": "markdown",
   "id": "92e80e94-5b1f-4022-923e-f084c8a05a14",
   "metadata": {},
   "source": [
    "#### Then we fit our linear regression model."
   ]
  },
  {
   "cell_type": "code",
   "execution_count": 15,
   "id": "3cd0e529-d712-4a92-9850-0aa7e68e1fa9",
   "metadata": {},
   "outputs": [
    {
     "data": {
      "text/html": [
       "<style>#sk-container-id-2 {color: black;background-color: white;}#sk-container-id-2 pre{padding: 0;}#sk-container-id-2 div.sk-toggleable {background-color: white;}#sk-container-id-2 label.sk-toggleable__label {cursor: pointer;display: block;width: 100%;margin-bottom: 0;padding: 0.3em;box-sizing: border-box;text-align: center;}#sk-container-id-2 label.sk-toggleable__label-arrow:before {content: \"▸\";float: left;margin-right: 0.25em;color: #696969;}#sk-container-id-2 label.sk-toggleable__label-arrow:hover:before {color: black;}#sk-container-id-2 div.sk-estimator:hover label.sk-toggleable__label-arrow:before {color: black;}#sk-container-id-2 div.sk-toggleable__content {max-height: 0;max-width: 0;overflow: hidden;text-align: left;background-color: #f0f8ff;}#sk-container-id-2 div.sk-toggleable__content pre {margin: 0.2em;color: black;border-radius: 0.25em;background-color: #f0f8ff;}#sk-container-id-2 input.sk-toggleable__control:checked~div.sk-toggleable__content {max-height: 200px;max-width: 100%;overflow: auto;}#sk-container-id-2 input.sk-toggleable__control:checked~label.sk-toggleable__label-arrow:before {content: \"▾\";}#sk-container-id-2 div.sk-estimator input.sk-toggleable__control:checked~label.sk-toggleable__label {background-color: #d4ebff;}#sk-container-id-2 div.sk-label input.sk-toggleable__control:checked~label.sk-toggleable__label {background-color: #d4ebff;}#sk-container-id-2 input.sk-hidden--visually {border: 0;clip: rect(1px 1px 1px 1px);clip: rect(1px, 1px, 1px, 1px);height: 1px;margin: -1px;overflow: hidden;padding: 0;position: absolute;width: 1px;}#sk-container-id-2 div.sk-estimator {font-family: monospace;background-color: #f0f8ff;border: 1px dotted black;border-radius: 0.25em;box-sizing: border-box;margin-bottom: 0.5em;}#sk-container-id-2 div.sk-estimator:hover {background-color: #d4ebff;}#sk-container-id-2 div.sk-parallel-item::after {content: \"\";width: 100%;border-bottom: 1px solid gray;flex-grow: 1;}#sk-container-id-2 div.sk-label:hover label.sk-toggleable__label {background-color: #d4ebff;}#sk-container-id-2 div.sk-serial::before {content: \"\";position: absolute;border-left: 1px solid gray;box-sizing: border-box;top: 0;bottom: 0;left: 50%;z-index: 0;}#sk-container-id-2 div.sk-serial {display: flex;flex-direction: column;align-items: center;background-color: white;padding-right: 0.2em;padding-left: 0.2em;position: relative;}#sk-container-id-2 div.sk-item {position: relative;z-index: 1;}#sk-container-id-2 div.sk-parallel {display: flex;align-items: stretch;justify-content: center;background-color: white;position: relative;}#sk-container-id-2 div.sk-item::before, #sk-container-id-2 div.sk-parallel-item::before {content: \"\";position: absolute;border-left: 1px solid gray;box-sizing: border-box;top: 0;bottom: 0;left: 50%;z-index: -1;}#sk-container-id-2 div.sk-parallel-item {display: flex;flex-direction: column;z-index: 1;position: relative;background-color: white;}#sk-container-id-2 div.sk-parallel-item:first-child::after {align-self: flex-end;width: 50%;}#sk-container-id-2 div.sk-parallel-item:last-child::after {align-self: flex-start;width: 50%;}#sk-container-id-2 div.sk-parallel-item:only-child::after {width: 0;}#sk-container-id-2 div.sk-dashed-wrapped {border: 1px dashed gray;margin: 0 0.4em 0.5em 0.4em;box-sizing: border-box;padding-bottom: 0.4em;background-color: white;}#sk-container-id-2 div.sk-label label {font-family: monospace;font-weight: bold;display: inline-block;line-height: 1.2em;}#sk-container-id-2 div.sk-label-container {text-align: center;}#sk-container-id-2 div.sk-container {/* jupyter's `normalize.less` sets `[hidden] { display: none; }` but bootstrap.min.css set `[hidden] { display: none !important; }` so we also need the `!important` here to be able to override the default hidden behavior on the sphinx rendered scikit-learn.org. See: https://github.com/scikit-learn/scikit-learn/issues/21755 */display: inline-block !important;position: relative;}#sk-container-id-2 div.sk-text-repr-fallback {display: none;}</style><div id=\"sk-container-id-2\" class=\"sk-top-container\"><div class=\"sk-text-repr-fallback\"><pre>LinearRegression()</pre><b>In a Jupyter environment, please rerun this cell to show the HTML representation or trust the notebook. <br />On GitHub, the HTML representation is unable to render, please try loading this page with nbviewer.org.</b></div><div class=\"sk-container\" hidden><div class=\"sk-item\"><div class=\"sk-estimator sk-toggleable\"><input class=\"sk-toggleable__control sk-hidden--visually\" id=\"sk-estimator-id-2\" type=\"checkbox\" checked><label for=\"sk-estimator-id-2\" class=\"sk-toggleable__label sk-toggleable__label-arrow\">LinearRegression</label><div class=\"sk-toggleable__content\"><pre>LinearRegression()</pre></div></div></div></div></div>"
      ],
      "text/plain": [
       "LinearRegression()"
      ]
     },
     "execution_count": 15,
     "metadata": {},
     "output_type": "execute_result"
    }
   ],
   "source": [
    "from sklearn.linear_model import LinearRegression\n",
    "simple_linear_regression = LinearRegression()\n",
    "simple_linear_regression.fit(X_train,y_train)"
   ]
  },
  {
   "cell_type": "markdown",
   "id": "47c6b994-3663-480b-a7ed-fd17a137c7db",
   "metadata": {},
   "source": [
    "We can then test our model with the predict function and see how well it did with the mean_squared_error function"
   ]
  },
  {
   "cell_type": "code",
   "execution_count": 16,
   "id": "fda8ae2f-81e6-4bf0-b12f-695d63803983",
   "metadata": {},
   "outputs": [
    {
     "name": "stdout",
     "output_type": "stream",
     "text": [
      "Root Mean Squared Error value = 5140.765388013391\n"
     ]
    }
   ],
   "source": [
    "from sklearn.metrics import mean_squared_error\n",
    "predicted_y = simple_linear_regression.predict(X_test)\n",
    "rmse = sqrt(mean_squared_error(y_test,predicted_y))\n",
    "\n",
    "print(\"Root Mean Squared Error value = {}\".format(rmse))"
   ]
  },
  {
   "cell_type": "markdown",
   "id": "2a3c6bc4-8096-4fd3-88c9-01843a29b901",
   "metadata": {},
   "source": [
    "#### Slope of best fit Line"
   ]
  },
  {
   "cell_type": "code",
   "execution_count": 17,
   "id": "6db48068-9b54-4df1-b253-579bd0ee6aa3",
   "metadata": {},
   "outputs": [
    {
     "data": {
      "text/plain": [
       "9347.36881240705"
      ]
     },
     "execution_count": 17,
     "metadata": {},
     "output_type": "execute_result"
    }
   ],
   "source": [
    "m= simple_linear_regression.coef_[0]\n",
    "m"
   ]
  },
  {
   "cell_type": "markdown",
   "id": "76053586-fb6f-491a-afc5-73f46f603145",
   "metadata": {},
   "source": [
    "#### Intercept of best Fit line"
   ]
  },
  {
   "cell_type": "code",
   "execution_count": 18,
   "id": "ee6b04f3-2e7c-42d5-8b5c-a3b002d853cc",
   "metadata": {},
   "outputs": [
    {
     "data": {
      "text/plain": [
       "26916.993520288946"
      ]
     },
     "execution_count": 18,
     "metadata": {},
     "output_type": "execute_result"
    }
   ],
   "source": [
    "b = simple_linear_regression.intercept_\n",
    "b"
   ]
  },
  {
   "cell_type": "markdown",
   "id": "acaf83d3-07dc-4204-a8a8-66ae53466cfd",
   "metadata": {},
   "source": [
    "#### Equation of best fit line"
   ]
  },
  {
   "cell_type": "code",
   "execution_count": 19,
   "id": "a3451e19-fedf-4f7a-a443-765cf109162a",
   "metadata": {},
   "outputs": [
    {
     "name": "stdout",
     "output_type": "stream",
     "text": [
      "Y = (9347.36881240705 * X)+ 26916.993520288946\n"
     ]
    }
   ],
   "source": [
    "print(\"Y = ({} * X)+ {}\".format(m,b))"
   ]
  },
  {
   "cell_type": "code",
   "execution_count": 20,
   "id": "b1526cd5-b23a-47e5-8c18-1a116dcb8695",
   "metadata": {},
   "outputs": [],
   "source": [
    "def plot_linear_regression_result(x,y,predicted_y):\n",
    "    # plotting the actual points as a scatter\n",
    "    plt.figure(figsize=(8,4))\n",
    "    plt.scatter(x,y,color = \"g\", marker = \"o\",s=30)\n",
    "    \n",
    "    # plotting the regression line\n",
    "    plt.plot(x, predicted_y, color = \"r\", linewidth=2)\n",
    " \n",
    "    # putting labels\n",
    "    plt.title('Linear regression of Year of Experiance & Salary')\n",
    "    plt.xlabel('YearsExperience')\n",
    "    plt.ylabel('Salary')\n",
    " \n",
    "    # function to show plot\n",
    "    plt.show()"
   ]
  },
  {
   "cell_type": "code",
   "execution_count": 21,
   "id": "4f8a8abc-d0d8-49a0-9645-b621224cbbe4",
   "metadata": {},
   "outputs": [
    {
     "data": {
      "image/png": "[encoded data removed]",
      "text/plain": [
       "<Figure size 800x400 with 1 Axes>"
      ]
     },
     "metadata": {},
     "output_type": "display_data"
    }
   ],
   "source": [
    "plot_linear_regression_result(X_test,y_test,predicted_y)"
   ]
  },
  {
   "cell_type": "code",
   "execution_count": 25,
   "id": "9c48efda-8094-49cc-a0b6-495fa92f0689",
   "metadata": {},
   "outputs": [
    {
     "name": "stdout",
     "output_type": "stream",
     "text": [
      "Mean Absolute Error (MAE): 4190.5775440832795\n",
      "Mean Squared Error (MSE): 26427468.77459647\n",
      "Root Mean Squared Error (RMSE): 5140.765388013391\n",
      "R-squared (R2) Score: 0.9643684752548293\n"
     ]
    }
   ],
   "source": [
    "from sklearn.metrics import mean_absolute_error, mean_squared_error, r2_score\n",
    "\n",
    "# Calculate Mean Absolute Error (MAE)\n",
    "mae = mean_absolute_error(y_test, predicted_y)\n",
    "\n",
    "# Calculate Mean Squared Error (MSE)\n",
    "mse = mean_squared_error(y_test, predicted_y)\n",
    "\n",
    "# Calculate Root Mean Squared Error (RMSE)\n",
    "rmse = mean_squared_error(y_test, predicted_y, squared=False)\n",
    "\n",
    "# Calculate R-squared (R2) Score\n",
    "r2_linear = r2_score(y_test, predicted_y)\n",
    "\n",
    "print(\"Mean Absolute Error (MAE):\", mae)\n",
    "print(\"Mean Squared Error (MSE):\", mse)\n",
    "print(\"Root Mean Squared Error (RMSE):\", rmse)\n",
    "print(\"R-squared (R2) Score:\", r2_linear)\n"
   ]
  },
  {
   "cell_type": "markdown",
   "id": "451d560b-917a-454d-a3c5-1aefc8943b88",
   "metadata": {},
   "source": [
    "#### Accuracy of model"
   ]
  },
  {
   "cell_type": "code",
   "execution_count": 26,
   "id": "d1ee7f5b-96bc-44d9-853d-0dc53d33ae64",
   "metadata": {},
   "outputs": [
    {
     "name": "stdout",
     "output_type": "stream",
     "text": [
      "Accuacy of model:- 96.43684752548293\n"
     ]
    }
   ],
   "source": [
    "print(\"Accuacy of model:-\", r2_linear*100)"
   ]
  },
  {
   "cell_type": "markdown",
   "id": "d4e4e79d-8759-4d73-8407-53e083a5f215",
   "metadata": {},
   "source": [
    "#### Predication model"
   ]
  },
  {
   "cell_type": "code",
   "execution_count": 27,
   "id": "debb88da-f935-4118-9e83-a5073116eaae",
   "metadata": {},
   "outputs": [],
   "source": [
    "def predication(X):\n",
    "    Y = (26858.283390428558 * X)+ 9257.234097109678\n",
    "    return Y"
   ]
  },
  {
   "cell_type": "code",
   "execution_count": 28,
   "id": "4b1443bd-4c40-434f-b40d-718df5d82b2d",
   "metadata": {},
   "outputs": [
    {
     "data": {
      "text/plain": [
       "68345.45755605251"
      ]
     },
     "execution_count": 28,
     "metadata": {},
     "output_type": "execute_result"
    }
   ],
   "source": [
    "predication(2.2)"
   ]
  },
  {
   "cell_type": "markdown",
   "id": "4eb813a2-5e68-4505-9eae-b8ca5fabac3a",
   "metadata": {},
   "source": [
    "#### Comparsion of Predicated value & Actual value"
   ]
  },
  {
   "cell_type": "code",
   "execution_count": 29,
   "id": "588cfc13-8cc9-4033-b08b-a5670f78e452",
   "metadata": {},
   "outputs": [
    {
     "data": {
      "text/html": [
       "<div>\n",
       "<style scoped>\n",
       "    .dataframe tbody tr th:only-of-type {\n",
       "        vertical-align: middle;\n",
       "    }\n",
       "\n",
       "    .dataframe tbody tr th {\n",
       "        vertical-align: top;\n",
       "    }\n",
       "\n",
       "    .dataframe thead th {\n",
       "        text-align: right;\n",
       "    }\n",
       "</style>\n",
       "<table border=\"1\" class=\"dataframe\">\n",
       "  <thead>\n",
       "    <tr style=\"text-align: right;\">\n",
       "      <th></th>\n",
       "      <th>Predicated Value</th>\n",
       "      <th>Actual Value</th>\n",
       "    </tr>\n",
       "  </thead>\n",
       "  <tbody>\n",
       "    <tr>\n",
       "      <th>16</th>\n",
       "      <td>74588.574464</td>\n",
       "      <td>66029.0</td>\n",
       "    </tr>\n",
       "    <tr>\n",
       "      <th>20</th>\n",
       "      <td>90479.101445</td>\n",
       "      <td>91738.0</td>\n",
       "    </tr>\n",
       "    <tr>\n",
       "      <th>5</th>\n",
       "      <td>54024.363076</td>\n",
       "      <td>56642.0</td>\n",
       "    </tr>\n",
       "    <tr>\n",
       "      <th>9</th>\n",
       "      <td>61502.258126</td>\n",
       "      <td>57189.0</td>\n",
       "    </tr>\n",
       "    <tr>\n",
       "      <th>28</th>\n",
       "      <td>123194.892288</td>\n",
       "      <td>122391.0</td>\n",
       "    </tr>\n",
       "    <tr>\n",
       "      <th>4</th>\n",
       "      <td>47481.204908</td>\n",
       "      <td>39891.0</td>\n",
       "    </tr>\n",
       "  </tbody>\n",
       "</table>\n",
       "</div>"
      ],
      "text/plain": [
       "    Predicated Value  Actual Value\n",
       "16      74588.574464       66029.0\n",
       "20      90479.101445       91738.0\n",
       "5       54024.363076       56642.0\n",
       "9       61502.258126       57189.0\n",
       "28     123194.892288      122391.0\n",
       "4       47481.204908       39891.0"
      ]
     },
     "execution_count": 29,
     "metadata": {},
     "output_type": "execute_result"
    }
   ],
   "source": [
    "pd.DataFrame({\"Predicated Value\" : predicted_y,\n",
    "              \"Actual Value\" : y_test})"
   ]
  },
  {
   "attachments": {
    "08375801-8a19-4952-a1b6-bbece989374b.png": {
     "image/png": "[encoded data removed]"
    }
   },
   "cell_type": "markdown",
   "id": "1e8b12b9-214a-4cf1-8375-81666fe87b20",
   "metadata": {},
   "source": [
    "# ---------------  Elastic Net(L2 regularization) -------------------\n",
    "```python\n",
    "Elastic Net regression is a linear regression model that combines L1 (Lasso) and L2 (Ridge) regularization penalties to overcome the limitations of both methods\n",
    "```\n",
    "![image.png](attachment:08375801-8a19-4952-a1b6-bbece989374b.png)"
   ]
  },
  {
   "cell_type": "markdown",
   "id": "5b4b0fe7-5c56-479d-af59-396c1bb5dc3c",
   "metadata": {},
   "source": [
    "#### Importing model"
   ]
  },
  {
   "cell_type": "code",
   "execution_count": 45,
   "id": "d81abeb4-2149-43e6-9c57-fc86bb6f1119",
   "metadata": {},
   "outputs": [],
   "source": [
    "import warnings\n",
    "from sklearn.exceptions import ConvergenceWarning\n",
    "from sklearn.linear_model import ElasticNet          # Import ElasticNet regression model\n",
    "from sklearn.model_selection import GridSearchCV     # Import GridSearchCV for hyperparameter tuning\n",
    "warnings.filterwarnings(\"ignore\", category=ConvergenceWarning)"
   ]
  },
  {
   "cell_type": "markdown",
   "id": "2c51eabe-329f-48d4-a424-8bc9e96c3634",
   "metadata": {},
   "source": [
    "#### # Create Elastic Net regressor"
   ]
  },
  {
   "cell_type": "code",
   "execution_count": 46,
   "id": "8eb094c2-2b89-4d00-b929-5f3597af763d",
   "metadata": {},
   "outputs": [],
   "source": [
    "elastic_net = ElasticNet(max_iter=10000)           # Create an instance of the Ridge regression model"
   ]
  },
  {
   "cell_type": "code",
   "execution_count": 47,
   "id": "ca08b454-f2c9-4dc7-8d1f-092b3ef7955a",
   "metadata": {},
   "outputs": [
    {
     "data": {
      "text/html": [
       "<style>#sk-container-id-7 {color: black;background-color: white;}#sk-container-id-7 pre{padding: 0;}#sk-container-id-7 div.sk-toggleable {background-color: white;}#sk-container-id-7 label.sk-toggleable__label {cursor: pointer;display: block;width: 100%;margin-bottom: 0;padding: 0.3em;box-sizing: border-box;text-align: center;}#sk-container-id-7 label.sk-toggleable__label-arrow:before {content: \"▸\";float: left;margin-right: 0.25em;color: #696969;}#sk-container-id-7 label.sk-toggleable__label-arrow:hover:before {color: black;}#sk-container-id-7 div.sk-estimator:hover label.sk-toggleable__label-arrow:before {color: black;}#sk-container-id-7 div.sk-toggleable__content {max-height: 0;max-width: 0;overflow: hidden;text-align: left;background-color: #f0f8ff;}#sk-container-id-7 div.sk-toggleable__content pre {margin: 0.2em;color: black;border-radius: 0.25em;background-color: #f0f8ff;}#sk-container-id-7 input.sk-toggleable__control:checked~div.sk-toggleable__content {max-height: 200px;max-width: 100%;overflow: auto;}#sk-container-id-7 input.sk-toggleable__control:checked~label.sk-toggleable__label-arrow:before {content: \"▾\";}#sk-container-id-7 div.sk-estimator input.sk-toggleable__control:checked~label.sk-toggleable__label {background-color: #d4ebff;}#sk-container-id-7 div.sk-label input.sk-toggleable__control:checked~label.sk-toggleable__label {background-color: #d4ebff;}#sk-container-id-7 input.sk-hidden--visually {border: 0;clip: rect(1px 1px 1px 1px);clip: rect(1px, 1px, 1px, 1px);height: 1px;margin: -1px;overflow: hidden;padding: 0;position: absolute;width: 1px;}#sk-container-id-7 div.sk-estimator {font-family: monospace;background-color: #f0f8ff;border: 1px dotted black;border-radius: 0.25em;box-sizing: border-box;margin-bottom: 0.5em;}#sk-container-id-7 div.sk-estimator:hover {background-color: #d4ebff;}#sk-container-id-7 div.sk-parallel-item::after {content: \"\";width: 100%;border-bottom: 1px solid gray;flex-grow: 1;}#sk-container-id-7 div.sk-label:hover label.sk-toggleable__label {background-color: #d4ebff;}#sk-container-id-7 div.sk-serial::before {content: \"\";position: absolute;border-left: 1px solid gray;box-sizing: border-box;top: 0;bottom: 0;left: 50%;z-index: 0;}#sk-container-id-7 div.sk-serial {display: flex;flex-direction: column;align-items: center;background-color: white;padding-right: 0.2em;padding-left: 0.2em;position: relative;}#sk-container-id-7 div.sk-item {position: relative;z-index: 1;}#sk-container-id-7 div.sk-parallel {display: flex;align-items: stretch;justify-content: center;background-color: white;position: relative;}#sk-container-id-7 div.sk-item::before, #sk-container-id-7 div.sk-parallel-item::before {content: \"\";position: absolute;border-left: 1px solid gray;box-sizing: border-box;top: 0;bottom: 0;left: 50%;z-index: -1;}#sk-container-id-7 div.sk-parallel-item {display: flex;flex-direction: column;z-index: 1;position: relative;background-color: white;}#sk-container-id-7 div.sk-parallel-item:first-child::after {align-self: flex-end;width: 50%;}#sk-container-id-7 div.sk-parallel-item:last-child::after {align-self: flex-start;width: 50%;}#sk-container-id-7 div.sk-parallel-item:only-child::after {width: 0;}#sk-container-id-7 div.sk-dashed-wrapped {border: 1px dashed gray;margin: 0 0.4em 0.5em 0.4em;box-sizing: border-box;padding-bottom: 0.4em;background-color: white;}#sk-container-id-7 div.sk-label label {font-family: monospace;font-weight: bold;display: inline-block;line-height: 1.2em;}#sk-container-id-7 div.sk-label-container {text-align: center;}#sk-container-id-7 div.sk-container {/* jupyter's `normalize.less` sets `[hidden] { display: none; }` but bootstrap.min.css set `[hidden] { display: none !important; }` so we also need the `!important` here to be able to override the default hidden behavior on the sphinx rendered scikit-learn.org. See: https://github.com/scikit-learn/scikit-learn/issues/21755 */display: inline-block !important;position: relative;}#sk-container-id-7 div.sk-text-repr-fallback {display: none;}</style><div id=\"sk-container-id-7\" class=\"sk-top-container\"><div class=\"sk-text-repr-fallback\"><pre>ElasticNet(max_iter=10000)</pre><b>In a Jupyter environment, please rerun this cell to show the HTML representation or trust the notebook. <br />On GitHub, the HTML representation is unable to render, please try loading this page with nbviewer.org.</b></div><div class=\"sk-container\" hidden><div class=\"sk-item\"><div class=\"sk-estimator sk-toggleable\"><input class=\"sk-toggleable__control sk-hidden--visually\" id=\"sk-estimator-id-11\" type=\"checkbox\" checked><label for=\"sk-estimator-id-11\" class=\"sk-toggleable__label sk-toggleable__label-arrow\">ElasticNet</label><div class=\"sk-toggleable__content\"><pre>ElasticNet(max_iter=10000)</pre></div></div></div></div></div>"
      ],
      "text/plain": [
       "ElasticNet(max_iter=10000)"
      ]
     },
     "execution_count": 47,
     "metadata": {},
     "output_type": "execute_result"
    }
   ],
   "source": [
    "elastic_net"
   ]
  },
  {
   "cell_type": "markdown",
   "id": "debcc266-bd0e-41d5-a08b-7402c4a90e24",
   "metadata": {},
   "source": [
    "#### Define Hyperparameter Grid\n",
    "#### Define a dictionary containing the values of the regularization parameter (alpha) to be tested"
   ]
  },
  {
   "cell_type": "code",
   "execution_count": 48,
   "id": "9124dff7-c1f9-42b5-937e-f1d346308bd0",
   "metadata": {},
   "outputs": [],
   "source": [
    "parameters = {'alpha': [1e-15, 1e-10, 1e-8, 1e-3, 1e-2, 1, 5, 10, 20, 30, 35, 40, 45, 50, 55, 100],\n",
    "              'l1_ratio': [0.1, 0.3, 0.5, 0.7, 0.9]}  # L1 ratio (mixing parameter) ranges from 0 to 1"
   ]
  },
  {
   "cell_type": "markdown",
   "id": "b0d3c2bd-5ecf-41fc-adbe-2f84ce5fe21b",
   "metadata": {},
   "source": [
    "#### Create a GridSearchCV object:\n",
    "```python\n",
    "   - ridge: The estimator (Ridge regression model)\n",
    "   - parameters: The parameter grid to search over\n",
    "   - scoring='neg_mean_squared_error': The scoring metric to optimize (negative mean squared error).\n",
    "   - cv=5: Cross-validation strategy (5-fold cross-validation)\n",
    "```"
   ]
  },
  {
   "cell_type": "code",
   "execution_count": 49,
   "id": "60a628d3-e9e5-4211-b06b-ffeeac515a17",
   "metadata": {},
   "outputs": [],
   "source": [
    "elastic_net_regressor = GridSearchCV(elastic_net, parameters, scoring='neg_mean_squared_error', cv=5)"
   ]
  },
  {
   "cell_type": "markdown",
   "id": "19933cf7-caae-455a-a8b2-4daf7721b849",
   "metadata": {},
   "source": [
    "#### Fit GridSearchCV\n",
    "#### Fit the GridSearchCV object on the data (X features and y target)"
   ]
  },
  {
   "cell_type": "code",
   "execution_count": 50,
   "id": "7653ca81-f162-49bb-8f8a-51819287616b",
   "metadata": {},
   "outputs": [
    {
     "data": {
      "text/html": [
       "<style>#sk-container-id-8 {color: black;background-color: white;}#sk-container-id-8 pre{padding: 0;}#sk-container-id-8 div.sk-toggleable {background-color: white;}#sk-container-id-8 label.sk-toggleable__label {cursor: pointer;display: block;width: 100%;margin-bottom: 0;padding: 0.3em;box-sizing: border-box;text-align: center;}#sk-container-id-8 label.sk-toggleable__label-arrow:before {content: \"▸\";float: left;margin-right: 0.25em;color: #696969;}#sk-container-id-8 label.sk-toggleable__label-arrow:hover:before {color: black;}#sk-container-id-8 div.sk-estimator:hover label.sk-toggleable__label-arrow:before {color: black;}#sk-container-id-8 div.sk-toggleable__content {max-height: 0;max-width: 0;overflow: hidden;text-align: left;background-color: #f0f8ff;}#sk-container-id-8 div.sk-toggleable__content pre {margin: 0.2em;color: black;border-radius: 0.25em;background-color: #f0f8ff;}#sk-container-id-8 input.sk-toggleable__control:checked~div.sk-toggleable__content {max-height: 200px;max-width: 100%;overflow: auto;}#sk-container-id-8 input.sk-toggleable__control:checked~label.sk-toggleable__label-arrow:before {content: \"▾\";}#sk-container-id-8 div.sk-estimator input.sk-toggleable__control:checked~label.sk-toggleable__label {background-color: #d4ebff;}#sk-container-id-8 div.sk-label input.sk-toggleable__control:checked~label.sk-toggleable__label {background-color: #d4ebff;}#sk-container-id-8 input.sk-hidden--visually {border: 0;clip: rect(1px 1px 1px 1px);clip: rect(1px, 1px, 1px, 1px);height: 1px;margin: -1px;overflow: hidden;padding: 0;position: absolute;width: 1px;}#sk-container-id-8 div.sk-estimator {font-family: monospace;background-color: #f0f8ff;border: 1px dotted black;border-radius: 0.25em;box-sizing: border-box;margin-bottom: 0.5em;}#sk-container-id-8 div.sk-estimator:hover {background-color: #d4ebff;}#sk-container-id-8 div.sk-parallel-item::after {content: \"\";width: 100%;border-bottom: 1px solid gray;flex-grow: 1;}#sk-container-id-8 div.sk-label:hover label.sk-toggleable__label {background-color: #d4ebff;}#sk-container-id-8 div.sk-serial::before {content: \"\";position: absolute;border-left: 1px solid gray;box-sizing: border-box;top: 0;bottom: 0;left: 50%;z-index: 0;}#sk-container-id-8 div.sk-serial {display: flex;flex-direction: column;align-items: center;background-color: white;padding-right: 0.2em;padding-left: 0.2em;position: relative;}#sk-container-id-8 div.sk-item {position: relative;z-index: 1;}#sk-container-id-8 div.sk-parallel {display: flex;align-items: stretch;justify-content: center;background-color: white;position: relative;}#sk-container-id-8 div.sk-item::before, #sk-container-id-8 div.sk-parallel-item::before {content: \"\";position: absolute;border-left: 1px solid gray;box-sizing: border-box;top: 0;bottom: 0;left: 50%;z-index: -1;}#sk-container-id-8 div.sk-parallel-item {display: flex;flex-direction: column;z-index: 1;position: relative;background-color: white;}#sk-container-id-8 div.sk-parallel-item:first-child::after {align-self: flex-end;width: 50%;}#sk-container-id-8 div.sk-parallel-item:last-child::after {align-self: flex-start;width: 50%;}#sk-container-id-8 div.sk-parallel-item:only-child::after {width: 0;}#sk-container-id-8 div.sk-dashed-wrapped {border: 1px dashed gray;margin: 0 0.4em 0.5em 0.4em;box-sizing: border-box;padding-bottom: 0.4em;background-color: white;}#sk-container-id-8 div.sk-label label {font-family: monospace;font-weight: bold;display: inline-block;line-height: 1.2em;}#sk-container-id-8 div.sk-label-container {text-align: center;}#sk-container-id-8 div.sk-container {/* jupyter's `normalize.less` sets `[hidden] { display: none; }` but bootstrap.min.css set `[hidden] { display: none !important; }` so we also need the `!important` here to be able to override the default hidden behavior on the sphinx rendered scikit-learn.org. See: https://github.com/scikit-learn/scikit-learn/issues/21755 */display: inline-block !important;position: relative;}#sk-container-id-8 div.sk-text-repr-fallback {display: none;}</style><div id=\"sk-container-id-8\" class=\"sk-top-container\"><div class=\"sk-text-repr-fallback\"><pre>GridSearchCV(cv=5, estimator=ElasticNet(max_iter=10000),\n",
       "             param_grid={&#x27;alpha&#x27;: [1e-15, 1e-10, 1e-08, 0.001, 0.01, 1, 5, 10,\n",
       "                                   20, 30, 35, 40, 45, 50, 55, 100],\n",
       "                         &#x27;l1_ratio&#x27;: [0.1, 0.3, 0.5, 0.7, 0.9]},\n",
       "             scoring=&#x27;neg_mean_squared_error&#x27;)</pre><b>In a Jupyter environment, please rerun this cell to show the HTML representation or trust the notebook. <br />On GitHub, the HTML representation is unable to render, please try loading this page with nbviewer.org.</b></div><div class=\"sk-container\" hidden><div class=\"sk-item sk-dashed-wrapped\"><div class=\"sk-label-container\"><div class=\"sk-label sk-toggleable\"><input class=\"sk-toggleable__control sk-hidden--visually\" id=\"sk-estimator-id-12\" type=\"checkbox\" ><label for=\"sk-estimator-id-12\" class=\"sk-toggleable__label sk-toggleable__label-arrow\">GridSearchCV</label><div class=\"sk-toggleable__content\"><pre>GridSearchCV(cv=5, estimator=ElasticNet(max_iter=10000),\n",
       "             param_grid={&#x27;alpha&#x27;: [1e-15, 1e-10, 1e-08, 0.001, 0.01, 1, 5, 10,\n",
       "                                   20, 30, 35, 40, 45, 50, 55, 100],\n",
       "                         &#x27;l1_ratio&#x27;: [0.1, 0.3, 0.5, 0.7, 0.9]},\n",
       "             scoring=&#x27;neg_mean_squared_error&#x27;)</pre></div></div></div><div class=\"sk-parallel\"><div class=\"sk-parallel-item\"><div class=\"sk-item\"><div class=\"sk-label-container\"><div class=\"sk-label sk-toggleable\"><input class=\"sk-toggleable__control sk-hidden--visually\" id=\"sk-estimator-id-13\" type=\"checkbox\" ><label for=\"sk-estimator-id-13\" class=\"sk-toggleable__label sk-toggleable__label-arrow\">estimator: ElasticNet</label><div class=\"sk-toggleable__content\"><pre>ElasticNet(max_iter=10000)</pre></div></div></div><div class=\"sk-serial\"><div class=\"sk-item\"><div class=\"sk-estimator sk-toggleable\"><input class=\"sk-toggleable__control sk-hidden--visually\" id=\"sk-estimator-id-14\" type=\"checkbox\" ><label for=\"sk-estimator-id-14\" class=\"sk-toggleable__label sk-toggleable__label-arrow\">ElasticNet</label><div class=\"sk-toggleable__content\"><pre>ElasticNet(max_iter=10000)</pre></div></div></div></div></div></div></div></div></div></div>"
      ],
      "text/plain": [
       "GridSearchCV(cv=5, estimator=ElasticNet(max_iter=10000),\n",
       "             param_grid={'alpha': [1e-15, 1e-10, 1e-08, 0.001, 0.01, 1, 5, 10,\n",
       "                                   20, 30, 35, 40, 45, 50, 55, 100],\n",
       "                         'l1_ratio': [0.1, 0.3, 0.5, 0.7, 0.9]},\n",
       "             scoring='neg_mean_squared_error')"
      ]
     },
     "execution_count": 50,
     "metadata": {},
     "output_type": "execute_result"
    }
   ],
   "source": [
    "elastic_net_regressor.fit(X, y)"
   ]
  },
  {
   "cell_type": "markdown",
   "id": "9542004c-cada-41f5-af7b-ecd27234d978",
   "metadata": {},
   "source": [
    "#### Print the best parameters found by GridSearchCV\n",
    "#### Print the best mean squared error score achieved by the Ridge regression model with the best parameters"
   ]
  },
  {
   "cell_type": "code",
   "execution_count": 51,
   "id": "6f0e1ef5-5486-4470-9a61-b7f072a57ffa",
   "metadata": {},
   "outputs": [
    {
     "name": "stdout",
     "output_type": "stream",
     "text": [
      "{'alpha': 1, 'l1_ratio': 0.7}\n",
      "-40431995.06435799\n"
     ]
    }
   ],
   "source": [
    "print(elastic_net_regressor.best_params_)\n",
    "print(elastic_net_regressor.best_score_)"
   ]
  },
  {
   "cell_type": "markdown",
   "id": "468e76d5-cbbb-42d0-9481-f5f653569905",
   "metadata": {},
   "source": [
    "#### Instantiate Ridge model with best parameters"
   ]
  },
  {
   "cell_type": "code",
   "execution_count": 53,
   "id": "a065f65c-d558-4865-8b16-52dc93c3fae9",
   "metadata": {},
   "outputs": [],
   "source": [
    "best_alpha = elastic_net_regressor.best_params_['alpha']\n",
    "elastic_net_model = ElasticNet(alpha=best_alpha)"
   ]
  },
  {
   "cell_type": "markdown",
   "id": "f2b105c3-c57b-478d-bc53-3b0b430d3822",
   "metadata": {},
   "source": [
    "#### Fit the model on the training data"
   ]
  },
  {
   "cell_type": "code",
   "execution_count": 54,
   "id": "6d5b9282-672f-4572-90fa-ec1739113b73",
   "metadata": {},
   "outputs": [
    {
     "data": {
      "text/html": [
       "<style>#sk-container-id-9 {color: black;background-color: white;}#sk-container-id-9 pre{padding: 0;}#sk-container-id-9 div.sk-toggleable {background-color: white;}#sk-container-id-9 label.sk-toggleable__label {cursor: pointer;display: block;width: 100%;margin-bottom: 0;padding: 0.3em;box-sizing: border-box;text-align: center;}#sk-container-id-9 label.sk-toggleable__label-arrow:before {content: \"▸\";float: left;margin-right: 0.25em;color: #696969;}#sk-container-id-9 label.sk-toggleable__label-arrow:hover:before {color: black;}#sk-container-id-9 div.sk-estimator:hover label.sk-toggleable__label-arrow:before {color: black;}#sk-container-id-9 div.sk-toggleable__content {max-height: 0;max-width: 0;overflow: hidden;text-align: left;background-color: #f0f8ff;}#sk-container-id-9 div.sk-toggleable__content pre {margin: 0.2em;color: black;border-radius: 0.25em;background-color: #f0f8ff;}#sk-container-id-9 input.sk-toggleable__control:checked~div.sk-toggleable__content {max-height: 200px;max-width: 100%;overflow: auto;}#sk-container-id-9 input.sk-toggleable__control:checked~label.sk-toggleable__label-arrow:before {content: \"▾\";}#sk-container-id-9 div.sk-estimator input.sk-toggleable__control:checked~label.sk-toggleable__label {background-color: #d4ebff;}#sk-container-id-9 div.sk-label input.sk-toggleable__control:checked~label.sk-toggleable__label {background-color: #d4ebff;}#sk-container-id-9 input.sk-hidden--visually {border: 0;clip: rect(1px 1px 1px 1px);clip: rect(1px, 1px, 1px, 1px);height: 1px;margin: -1px;overflow: hidden;padding: 0;position: absolute;width: 1px;}#sk-container-id-9 div.sk-estimator {font-family: monospace;background-color: #f0f8ff;border: 1px dotted black;border-radius: 0.25em;box-sizing: border-box;margin-bottom: 0.5em;}#sk-container-id-9 div.sk-estimator:hover {background-color: #d4ebff;}#sk-container-id-9 div.sk-parallel-item::after {content: \"\";width: 100%;border-bottom: 1px solid gray;flex-grow: 1;}#sk-container-id-9 div.sk-label:hover label.sk-toggleable__label {background-color: #d4ebff;}#sk-container-id-9 div.sk-serial::before {content: \"\";position: absolute;border-left: 1px solid gray;box-sizing: border-box;top: 0;bottom: 0;left: 50%;z-index: 0;}#sk-container-id-9 div.sk-serial {display: flex;flex-direction: column;align-items: center;background-color: white;padding-right: 0.2em;padding-left: 0.2em;position: relative;}#sk-container-id-9 div.sk-item {position: relative;z-index: 1;}#sk-container-id-9 div.sk-parallel {display: flex;align-items: stretch;justify-content: center;background-color: white;position: relative;}#sk-container-id-9 div.sk-item::before, #sk-container-id-9 div.sk-parallel-item::before {content: \"\";position: absolute;border-left: 1px solid gray;box-sizing: border-box;top: 0;bottom: 0;left: 50%;z-index: -1;}#sk-container-id-9 div.sk-parallel-item {display: flex;flex-direction: column;z-index: 1;position: relative;background-color: white;}#sk-container-id-9 div.sk-parallel-item:first-child::after {align-self: flex-end;width: 50%;}#sk-container-id-9 div.sk-parallel-item:last-child::after {align-self: flex-start;width: 50%;}#sk-container-id-9 div.sk-parallel-item:only-child::after {width: 0;}#sk-container-id-9 div.sk-dashed-wrapped {border: 1px dashed gray;margin: 0 0.4em 0.5em 0.4em;box-sizing: border-box;padding-bottom: 0.4em;background-color: white;}#sk-container-id-9 div.sk-label label {font-family: monospace;font-weight: bold;display: inline-block;line-height: 1.2em;}#sk-container-id-9 div.sk-label-container {text-align: center;}#sk-container-id-9 div.sk-container {/* jupyter's `normalize.less` sets `[hidden] { display: none; }` but bootstrap.min.css set `[hidden] { display: none !important; }` so we also need the `!important` here to be able to override the default hidden behavior on the sphinx rendered scikit-learn.org. See: https://github.com/scikit-learn/scikit-learn/issues/21755 */display: inline-block !important;position: relative;}#sk-container-id-9 div.sk-text-repr-fallback {display: none;}</style><div id=\"sk-container-id-9\" class=\"sk-top-container\"><div class=\"sk-text-repr-fallback\"><pre>ElasticNet(alpha=1)</pre><b>In a Jupyter environment, please rerun this cell to show the HTML representation or trust the notebook. <br />On GitHub, the HTML representation is unable to render, please try loading this page with nbviewer.org.</b></div><div class=\"sk-container\" hidden><div class=\"sk-item\"><div class=\"sk-estimator sk-toggleable\"><input class=\"sk-toggleable__control sk-hidden--visually\" id=\"sk-estimator-id-15\" type=\"checkbox\" checked><label for=\"sk-estimator-id-15\" class=\"sk-toggleable__label sk-toggleable__label-arrow\">ElasticNet</label><div class=\"sk-toggleable__content\"><pre>ElasticNet(alpha=1)</pre></div></div></div></div></div>"
      ],
      "text/plain": [
       "ElasticNet(alpha=1)"
      ]
     },
     "execution_count": 54,
     "metadata": {},
     "output_type": "execute_result"
    }
   ],
   "source": [
    "elastic_net_model.fit(X_train, y_train)"
   ]
  },
  {
   "cell_type": "markdown",
   "id": "a3cec250-7d9b-4c1b-b706-0aa62767f2ed",
   "metadata": {},
   "source": [
    "#### Predict on the test data"
   ]
  },
  {
   "cell_type": "code",
   "execution_count": 55,
   "id": "47b35df7-92b3-43b0-95ef-321b4c822d4a",
   "metadata": {},
   "outputs": [],
   "source": [
    "y_pred_elastic_net = elastic_net_model.predict(X_test)"
   ]
  },
  {
   "cell_type": "markdown",
   "id": "49a1d7a2-2e1b-4492-8f0d-bfae50aa87e9",
   "metadata": {},
   "source": [
    "#### Slope of ridge_model best fit line"
   ]
  },
  {
   "cell_type": "code",
   "execution_count": 56,
   "id": "3087ea5d-1df2-40c4-830e-b6664bb5279d",
   "metadata": {},
   "outputs": [
    {
     "data": {
      "text/plain": [
       "8787.250848811664"
      ]
     },
     "execution_count": 56,
     "metadata": {},
     "output_type": "execute_result"
    }
   ],
   "source": [
    "m= elastic_net_model.coef_[0]\n",
    "m"
   ]
  },
  {
   "cell_type": "markdown",
   "id": "40a6e13e-a0cf-4b58-adc0-b3f317976229",
   "metadata": {},
   "source": [
    "#### Intercept of ridge_model best fit line "
   ]
  },
  {
   "cell_type": "code",
   "execution_count": 57,
   "id": "b2233dd8-e6f8-4bf1-b63e-7a522ad117ec",
   "metadata": {},
   "outputs": [
    {
     "data": {
      "text/plain": [
       "29913.624625524266"
      ]
     },
     "execution_count": 57,
     "metadata": {},
     "output_type": "execute_result"
    }
   ],
   "source": [
    "b = elastic_net_model.intercept_\n",
    "b"
   ]
  },
  {
   "cell_type": "markdown",
   "id": "7d61c735-d9f5-49a7-8526-d7fa53870a6f",
   "metadata": {},
   "source": [
    "#### best fit line of ridge_model "
   ]
  },
  {
   "cell_type": "code",
   "execution_count": 58,
   "id": "79ccd643-8f95-4143-b076-ea5d4bc5e78d",
   "metadata": {},
   "outputs": [
    {
     "name": "stdout",
     "output_type": "stream",
     "text": [
      "Y = (8787.250848811664 * X)+ 29913.624625524266\n"
     ]
    }
   ],
   "source": [
    "print(\"Y = ({} * X)+ {}\".format(m,b))"
   ]
  },
  {
   "cell_type": "code",
   "execution_count": 59,
   "id": "6fe3edad-a001-4138-9a8a-93f64d2ffb34",
   "metadata": {},
   "outputs": [
    {
     "data": {
      "image/png": "[encoded data removed]",
      "text/plain": [
       "<Figure size 800x400 with 1 Axes>"
      ]
     },
     "metadata": {},
     "output_type": "display_data"
    }
   ],
   "source": [
    "plot_linear_regression_result(X_test,y_test,y_pred_elastic_net)"
   ]
  },
  {
   "cell_type": "code",
   "execution_count": 60,
   "id": "8b037068-5e8f-4866-883a-f9a919b14ea4",
   "metadata": {},
   "outputs": [
    {
     "name": "stdout",
     "output_type": "stream",
     "text": [
      "Mean Squared Error (MSE) for Ridge: 33389681.544546526\n"
     ]
    }
   ],
   "source": [
    "# Evaluate the model\n",
    "mse_ridge = mean_squared_error(y_test, y_pred_elastic_net)\n",
    "print(\"Mean Squared Error (MSE) for Ridge:\", mse_ridge)"
   ]
  },
  {
   "cell_type": "code",
   "execution_count": 63,
   "id": "5def3b33-cd94-4f33-a4ab-92bf677c88be",
   "metadata": {},
   "outputs": [
    {
     "name": "stdout",
     "output_type": "stream",
     "text": [
      "Mean Absolute Error (MAE): 4762.79039344917\n",
      "Mean Squared Error (MSE): 33389681.544546526\n",
      "Root Mean Squared Error (RMSE): 5778.3805295728425\n",
      "R-squared (R2) Score: 0.9549814901179068\n"
     ]
    }
   ],
   "source": [
    "from sklearn.metrics import mean_absolute_error, mean_squared_error, r2_score\n",
    "\n",
    "# Calculate Mean Absolute Error (MAE)\n",
    "mae = mean_absolute_error(y_test, y_pred_elastic_net)\n",
    "\n",
    "# Calculate Mean Squared Error (MSE)\n",
    "mse = mean_squared_error(y_test, y_pred_elastic_net)\n",
    "\n",
    "# Calculate Root Mean Squared Error (RMSE)\n",
    "rmse = mean_squared_error(y_test, y_pred_elastic_net, squared=False)\n",
    "\n",
    "# Calculate R-squared (R2) Score\n",
    "r2_elastic_net = r2_score(y_test, y_pred_elastic_net)\n",
    "\n",
    "print(\"Mean Absolute Error (MAE):\", mae)\n",
    "print(\"Mean Squared Error (MSE):\", mse)\n",
    "print(\"Root Mean Squared Error (RMSE):\", rmse)\n",
    "print(\"R-squared (R2) Score:\", r2_elastic_net)\n"
   ]
  },
  {
   "cell_type": "code",
   "execution_count": 65,
   "id": "44dea172-7283-4433-91dd-e644a4c9d757",
   "metadata": {},
   "outputs": [
    {
     "name": "stdout",
     "output_type": "stream",
     "text": [
      "Accuacy of model:- 95.49814901179067\n"
     ]
    }
   ],
   "source": [
    "print(\"Accuacy of model:-\", r2_elastic_net*100)"
   ]
  },
  {
   "cell_type": "code",
   "execution_count": 67,
   "id": "c353670d-a9a6-498a-95df-526203604279",
   "metadata": {},
   "outputs": [
    {
     "data": {
      "text/html": [
       "<div>\n",
       "<style scoped>\n",
       "    .dataframe tbody tr th:only-of-type {\n",
       "        vertical-align: middle;\n",
       "    }\n",
       "\n",
       "    .dataframe tbody tr th {\n",
       "        vertical-align: top;\n",
       "    }\n",
       "\n",
       "    .dataframe thead th {\n",
       "        text-align: right;\n",
       "    }\n",
       "</style>\n",
       "<table border=\"1\" class=\"dataframe\">\n",
       "  <thead>\n",
       "    <tr style=\"text-align: right;\">\n",
       "      <th></th>\n",
       "      <th>Actual Value</th>\n",
       "      <th>Predicated Value</th>\n",
       "      <th>Ridge model predicted</th>\n",
       "    </tr>\n",
       "  </thead>\n",
       "  <tbody>\n",
       "    <tr>\n",
       "      <th>16</th>\n",
       "      <td>66029.0</td>\n",
       "      <td>74588.574464</td>\n",
       "      <td>74728.603954</td>\n",
       "    </tr>\n",
       "    <tr>\n",
       "      <th>20</th>\n",
       "      <td>91738.0</td>\n",
       "      <td>90479.101445</td>\n",
       "      <td>89666.930397</td>\n",
       "    </tr>\n",
       "    <tr>\n",
       "      <th>5</th>\n",
       "      <td>56642.0</td>\n",
       "      <td>54024.363076</td>\n",
       "      <td>55396.652087</td>\n",
       "    </tr>\n",
       "    <tr>\n",
       "      <th>9</th>\n",
       "      <td>57189.0</td>\n",
       "      <td>61502.258126</td>\n",
       "      <td>62426.452766</td>\n",
       "    </tr>\n",
       "    <tr>\n",
       "      <th>28</th>\n",
       "      <td>122391.0</td>\n",
       "      <td>123194.892288</td>\n",
       "      <td>120422.308368</td>\n",
       "    </tr>\n",
       "    <tr>\n",
       "      <th>4</th>\n",
       "      <td>39891.0</td>\n",
       "      <td>47481.204908</td>\n",
       "      <td>49245.576493</td>\n",
       "    </tr>\n",
       "  </tbody>\n",
       "</table>\n",
       "</div>"
      ],
      "text/plain": [
       "    Actual Value  Predicated Value  Ridge model predicted\n",
       "16       66029.0      74588.574464           74728.603954\n",
       "20       91738.0      90479.101445           89666.930397\n",
       "5        56642.0      54024.363076           55396.652087\n",
       "9        57189.0      61502.258126           62426.452766\n",
       "28      122391.0     123194.892288          120422.308368\n",
       "4        39891.0      47481.204908           49245.576493"
      ]
     },
     "execution_count": 67,
     "metadata": {},
     "output_type": "execute_result"
    }
   ],
   "source": [
    "pd.DataFrame({\"Actual Value\" : y_test,\n",
    "              \"Predicated Value\" : predicted_y,\n",
    "              \"Ridge model predicted\" : y_pred_elastic_net\n",
    "             })"
   ]
  },
  {
   "cell_type": "markdown",
   "id": "8de72bb4-4214-4b72-b651-13980de3fcc4",
   "metadata": {},
   "source": [
    "#### Comaprsion of Actual value Predicated_y, Lasso model prediucted"
   ]
  },
  {
   "cell_type": "code",
   "execution_count": 68,
   "id": "ac0a977e-a2e6-48bd-a30b-b7bd0998c3d2",
   "metadata": {},
   "outputs": [
    {
     "data": {
      "image/png": "[encoded data removed]",
      "text/plain": [
       "<Figure size 800x400 with 1 Axes>"
      ]
     },
     "metadata": {},
     "output_type": "display_data"
    }
   ],
   "source": [
    "import matplotlib.pyplot as plt\n",
    "\n",
    "# Plotting the results\n",
    "plt.figure(figsize=(8, 4))\n",
    "\n",
    "# Plot actual values\n",
    "plt.scatter(range(len(y_test)), y_test, color='blue', label='Actual')\n",
    "\n",
    "# Plot linear regression predicted values (dotted line with thicker width)\n",
    "plt.plot(range(len(predicted_y)), predicted_y, color='red', linestyle='--', linewidth=4, label='Linear Regression Predicted')\n",
    "\n",
    "# Plot Lasso regression predicted values\n",
    "plt.plot(range(len(y_pred_elastic_net)), y_pred_elastic_net, color='green', label='Lasso Predicted')\n",
    "\n",
    "plt.title('Comparison of Predicted Values')\n",
    "plt.xlabel('Index')\n",
    "plt.ylabel('Value')\n",
    "plt.legend()\n",
    "plt.show()\n"
   ]
  },
  {
   "cell_type": "code",
   "execution_count": 41,
   "id": "48f4337e-b842-46e5-8cc3-3f90fef7e038",
   "metadata": {},
   "outputs": [],
   "source": [
    "def predict(X):\n",
    "    Y = (8960.588372619652 * X)+ 28207.46004561679\n",
    "    return round(Y,2)"
   ]
  },
  {
   "cell_type": "code",
   "execution_count": 132,
   "id": "3511262f-e4ac-4183-8033-589599635abb",
   "metadata": {},
   "outputs": [
    {
     "name": "stdout",
     "output_type": "stream",
     "text": [
      "Salary with 3 Experience: 55089.23\n"
     ]
    }
   ],
   "source": [
    "experience = 3\n",
    "print(f\"Salary with {experience} Experience: {predict(experience)}\")\n"
   ]
  },
  {
   "cell_type": "markdown",
   "id": "c0fcaab4-7be3-426e-8c77-b0e12bcfbb10",
   "metadata": {},
   "source": [
    "#### Improvement after Using Ridge Regression"
   ]
  },
  {
   "cell_type": "code",
   "execution_count": 70,
   "id": "74ff4874-8283-4f8a-b80e-b8a1fe4f0c96",
   "metadata": {},
   "outputs": [
    {
     "name": "stdout",
     "output_type": "stream",
     "text": [
      "After Apply Elastic Net Regession improvement in model:-  -0.9386985136922488 %\n"
     ]
    }
   ],
   "source": [
    "improve  = r2_elastic_net - r2_linear\n",
    "print(\"After Apply Elastic Net Regession improvement in model:- \",improve*100,\"%\")"
   ]
  },
  {
   "cell_type": "code",
   "execution_count": null,
   "id": "150cfe67-98d4-45ec-b43a-a54e5e181dcb",
   "metadata": {},
   "outputs": [],
   "source": []
  }
 ],
 "metadata": {
  "kernelspec": {
   "display_name": "Python 3 (ipykernel)",
   "language": "python",
   "name": "python3"
  },
  "language_info": {
   "codemirror_mode": {
    "name": "ipython",
    "version": 3
   },
   "file_extension": ".py",
   "mimetype": "text/x-python",
   "name": "python",
   "nbconvert_exporter": "python",
   "pygments_lexer": "ipython3",
   "version": "3.10.8"
  }
 },
 "nbformat": 4,
 "nbformat_minor": 5
}
